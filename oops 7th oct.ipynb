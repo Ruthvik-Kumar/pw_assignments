{
 "cells": [
  {
   "cell_type": "markdown",
   "id": "86b47d4f-860e-4702-83a0-0145887ab41a",
   "metadata": {},
   "source": [
    "Problem 1: Bank Account Create a class representing a bank account with attributes like account number, account holder name, and balance. Implement methods to deposit and withdraw money from the account."
   ]
  },
  {
   "cell_type": "code",
   "execution_count": null,
   "id": "fef1683a-faa4-4d27-a0a6-7a742e512e9b",
   "metadata": {},
   "outputs": [],
   "source": [
    "class Bank_Account:\n",
    "\n",
    "    pin = 1234\n",
    "\n",
    "    def __init__(self, account_number, account_holder_name, balance = 1000):\n",
    "        self.account_number = account_number\n",
    "        self.account_holder_name = account_holder_name\n",
    "        self.balance = balance\n",
    "\n",
    "    def deposit(self, deposit_amount):\n",
    "        self.balance += deposit_amount\n",
    "        return self.balance\n",
    "    \n",
    "    def withdraw(self, withdraw_amount):\n",
    "        self.balance -= withdraw_amount\n",
    "        return self.balance    \n",
    "    \n",
    "    def main(self, entered_pin):\n",
    "        if entered_pin == Bank_Account.pin:\n",
    "            action = input(\"Enter 1: Deposit, 2: Withdrawal\")\n",
    "            if action == 1:\n",
    "                amount = input(\"enter amount to deposit\")\n",
    "                updated_balance = self.deposit(deposit_amount=amount)\n",
    "                print(f\"current balance: {updated_balance}\")\n",
    "\n",
    "\n",
    "            elif action == 2:\n",
    "                amount = input(\"enter amount to withdraw\")\n",
    "                updated_balance = self.withdraw(withdraw_amount=amount)\n",
    "                print(f\"current balance: {updated_balance}\")\n",
    "\n",
    "            else:\n",
    "                print(\"Invalid entry!!\")\n",
    "\n",
    "        else:\n",
    "            print(\"Wrong Pin entered!!\")"
   ]
  },
  {
   "cell_type": "markdown",
   "id": "e6278836",
   "metadata": {},
   "source": [
    "Problem 2: Employee Management Create a class representing an employee with attributes like employee ID, name, and salary. Implement methods to calculate the yearly bonus and display employee details."
   ]
  },
  {
   "cell_type": "code",
   "execution_count": 39,
   "id": "6c696ca3",
   "metadata": {},
   "outputs": [],
   "source": [
    "class employee:\n",
    "    def __init__(self, emp_id, emp_name, salary):\n",
    "        self.employ_id = emp_id\n",
    "        self.employ_name = emp_name\n",
    "        self.employ_salary = salary\n",
    "\n",
    "    def yearly_bonus(self, bonus_rate = 20):\n",
    "        self.bonus_amount = round(self.employ_salary*(bonus_rate/100))\n",
    "        return self.bonus_amount\n",
    "\n",
    "    def display_details(self) -> str:\n",
    "        \"\"\"Display employee details.\"\"\"\n",
    "        print(f\"Employee ID: {self.employ_id}\")\n",
    "        print(f\"Name: {self.employ_name}\")\n",
    "        print(f\"Salary: {self.employ_salary:,.2f} INR\")\n",
    "        print(f\"Yearly Bonus: {self.yearly_bonus():,.2f} INR\")"
   ]
  },
  {
   "cell_type": "code",
   "execution_count": 40,
   "id": "a90f523b",
   "metadata": {},
   "outputs": [
    {
     "name": "stdout",
     "output_type": "stream",
     "text": [
      "Employee ID: 1234\n",
      "Name: ruth\n",
      "Salary: 69,000.00 INR\n",
      "Yearly Bonus: 13,800.00 INR\n"
     ]
    }
   ],
   "source": [
    "emp1 = employee(1234, \"ruth\", 69000)\n",
    "\n",
    "emp1.display_details()"
   ]
  },
  {
   "cell_type": "markdown",
   "id": "32cc8a46",
   "metadata": {},
   "source": [
    "Problem 3: Vehicle Rental Create a class representing a vehicle rental system. Implement methods to rent a vehicle, return a vehicle, and display available vehicles."
   ]
  },
  {
   "cell_type": "code",
   "execution_count": null,
   "id": "ebea4201",
   "metadata": {},
   "outputs": [],
   "source": [
    "class vehicle_rental:\n",
    "\n",
    "    def __init__(self):\n",
    "        \n",
    "        self.vehicles = {\n",
    "            \"H Activa\" : {\"vehicle_code\" : \"N001\", \"cost_per_hr\" : 6, \"available\" : True},\n",
    "            \"VW Polo\"  : {\"vehicle_code\" : \"N002\", \"cost_per_hr\" : 11, \"available\" : True}, \n",
    "            \"M Thar\"   : {\"vehicle_code\" : \"N003\", \"cost_per_hr\" : 13, \"available\" : True},\n",
    "            \"H Verna\"  : {\"vehicle_code\" : \"N004\", \"cost_per_hr\" : 14, \"available\" : True},\n",
    "            \"T Innova\" : {\"vehicle_code\" : \"N005\", \"cost_per_hr\" : 17, \"available\" : True}\n",
    "            }\n",
    "        \n",
    "        self.display_available()\n",
    "\n",
    "\n",
    "\n",
    "    def rent_vehicle(self, vehicle_name):\n",
    "         \n",
    "        if vehicle_name in self.vehicles and self.vehicles[vehicle_name][\"available\"] == True:\n",
    "            self.vehicles[vehicle_name][\"available\"] == False\n",
    "            print(f\"{vehicle_name} has been successful rented out\")\n",
    "\n",
    "        else:\n",
    "            print(f\"{vehicle_name} is currently unavailable for rent\")\n",
    "\n",
    "\n",
    "    def return_vehicle(self, vehicle_name):\n",
    "         \n",
    "        if vehicle_name in self.vehicles and self.vehicles[vehicle_name][\"available\"] == False:\n",
    "            self.vehicles[vehicle_name][\"available\"] == True\n",
    "            print(f\"{vehicle_name} is returned\" )\n",
    "        print(f\"{vehicle_name} is not rented or entered vehicle does not exist\")\n",
    "\n",
    "\n",
    "    def display_available(self):\n",
    "        \n",
    "        available_vehicles = {\n",
    "        vehicle : details for vehicle, details in self.vehicles.items() if details[\"available\"] == True\n",
    "        }\n",
    "        print(\"Available vehicles:\\n\")\n",
    "\n",
    "        if not available_vehicles:\n",
    "            print (\"No vehicles available for rent.\")\n",
    "\n",
    "        else:\n",
    "            for v, d in available_vehicles.items():\n",
    "                print(f\"{v}, cost per hour is {d.get('cost_per_hr')}\")"
   ]
  },
  {
   "cell_type": "code",
   "execution_count": null,
   "id": "fb159ef2",
   "metadata": {},
   "outputs": [
    {
     "name": "stdout",
     "output_type": "stream",
     "text": [
      "Available vehicles:\n",
      "\n",
      "H Activa, cost per hour is 6\n",
      "M Thar, cost per hour is 13\n",
      "H Verna, cost per hour is 14\n",
      "T Innova, cost per hour is 17\n",
      "M Thar has been successful rented out\n"
     ]
    },
    {
     "ename": "",
     "evalue": "",
     "output_type": "error",
     "traceback": [
      "\u001b[1;31mThe Kernel crashed while executing code in the current cell or a previous cell. \n",
      "\u001b[1;31mPlease review the code in the cell(s) to identify a possible cause of the failure. \n",
      "\u001b[1;31mClick <a href='https://aka.ms/vscodeJupyterKernelCrash'>here</a> for more info. \n",
      "\u001b[1;31mView Jupyter <a href='command:jupyter.viewOutput'>log</a> for further details."
     ]
    }
   ],
   "source": [
    "cust = vehicle_rental()\n",
    "cust.rent_vehicle(\"M Thar\")"
   ]
  },
  {
   "cell_type": "markdown",
   "id": "e9222c45",
   "metadata": {},
   "source": [
    "Problem 4: Library Catalog Create classes representing a library and a book. Implement methods to add books to the library, borrow books, and display available books.\n"
   ]
  },
  {
   "cell_type": "code",
   "execution_count": null,
   "id": "9d50bbb9",
   "metadata": {},
   "outputs": [],
   "source": [
    "class library:\n",
    "    def __init__(self):\n",
    "        self.books = []\n",
    "\n",
    "    def add_book(self, book):\n",
    "        self.books.append(book)\n",
    "\n",
    "    def display_books(self):\n",
    "        #storage\n",
    "        available_books = [i for i in self.books if i.is_available == True] \n",
    "        if not available_books:\n",
    "            print(\"no books available\")\n",
    "        else:\n",
    "            print(\"Available books:\")\n",
    "            for books in available_books:\n",
    "                print(f\" - {books}\")\n",
    "\n",
    "    def borrow_books(self, title):\n",
    "        for book in self.books:\n",
    "            if book.title.lower() == title.lower() and book.is_available:                \n",
    "                book.is_available = False\n",
    "                print(\"Book borrowed\")\n",
    "                return self.display_books()\n",
    "        print(\"Given book not found\")\n",
    "\n",
    "\n",
    "\n",
    "class book:\n",
    "    def __init__(self, title, author):\n",
    "        self.title = title\n",
    "        self.author = author\n",
    "        self.is_available = True\n",
    "\n",
    "    def __str__(self):\n",
    "        return f\"{self.title} by {self.author}\""
   ]
  },
  {
   "cell_type": "code",
   "execution_count": 24,
   "id": "09b5f5ec",
   "metadata": {},
   "outputs": [
    {
     "name": "stdout",
     "output_type": "stream",
     "text": [
      "Book borrowed\n",
      "Available books are:\n",
      " - macbeth by speare\n"
     ]
    }
   ],
   "source": [
    "me = library()\n",
    "novel = book(\"macbeth\", \"speare\")\n",
    "play = book(\"hamlet\", \"speare\")\n",
    "\n",
    "me.add_book(novel)\n",
    "me.add_book(play)\n",
    "me.borrow_books(\"hamlet\")"
   ]
  },
  {
   "cell_type": "markdown",
   "id": "811a198f",
   "metadata": {},
   "source": [
    "Problem 5: Product Inventory Create classes representing a product and an inventory system. Implement methods to add products to the inventory, update product quantity, and display available products."
   ]
  },
  {
   "cell_type": "code",
   "execution_count": null,
   "id": "8e4b4d52",
   "metadata": {},
   "outputs": [],
   "source": [
    "class Product:\n",
    "    def __init__(self, name, price, quantity):\n",
    "        self.name = name\n",
    "        self.price = price\n",
    "        self.quantity = quantity\n",
    "\n",
    "    def __str__(self):\n",
    "        return f\"{self.name} - ${self.price:.2f} ({self.quantity} in stock)\"\n",
    "\n",
    "\n",
    "class Inventory:\n",
    "    def __init__(self):\n",
    "        self.products = []\n",
    "\n",
    "    def add_product(self, product):\n",
    "        for p in self.products:\n",
    "            if p.name.lower() == product.name.lower():\n",
    "                p.quantity += product.quantity\n",
    "                print(f\"Updated quantity of {p.name}\")\n",
    "                return\n",
    "        self.products.append(product)\n",
    "        print(f\"Added {product.name} to inventory\")\n",
    "\n",
    "    def update_quantity(self, product_name, new_quantity):\n",
    "        for p in self.products:\n",
    "            if p.name.lower() == product_name.lower():\n",
    "                p.quantity = new_quantity\n",
    "                print(f\"Updated quantity of {p.name} to {new_quantity}\")\n",
    "                return\n",
    "        print(\"Product not found.\")\n",
    "\n",
    "    def display_products(self):\n",
    "        if not self.products:\n",
    "            print(\"Inventory is empty.\")\n",
    "        else:\n",
    "            print(\"Available Products:\")\n",
    "            for product in self.products:\n",
    "                print(f\" - {product}\")"
   ]
  },
  {
   "cell_type": "markdown",
   "id": "12c28131",
   "metadata": {},
   "source": [
    "Problem 6: Shape Calculation Create a class representing a shape with attributes like length, width, and height. Implement methods to calculate the area and perimeter of the shape."
   ]
  },
  {
   "cell_type": "code",
   "execution_count": null,
   "id": "9374c2c2",
   "metadata": {},
   "outputs": [],
   "source": [
    "class Shape:\n",
    "    def __init__(self, length, width, height):\n",
    "        self.length = length\n",
    "        self.width = width\n",
    "        self.height = height\n",
    "\n",
    "    def surface_area(self):\n",
    "        return 2 * (self.length * self.width + self.width * self.height + self.height * self.length)\n",
    "\n",
    "    def volume(self):\n",
    "        return self.length * self.width * self.height\n",
    "\n",
    "    def __str__(self):\n",
    "        return f\"Shape: {self.length} x {self.width} x {self.height}\"\n"
   ]
  },
  {
   "cell_type": "markdown",
   "id": "c430cbe2",
   "metadata": {},
   "source": [
    "Problem 7: Student Management Create a class representing a student with attributes like student ID, name, and grades. Implement methods to calculate the average grade and display student details."
   ]
  },
  {
   "cell_type": "code",
   "execution_count": null,
   "id": "8fc1fd12",
   "metadata": {},
   "outputs": [],
   "source": [
    "class Student:\n",
    "    def __init__(self, student_id, name, *grades):\n",
    "        self.student_id = student_id\n",
    "        self.name = name\n",
    "        self.grades = list(grades)  # Convert tuple to list for easier manipulation\n",
    "\n",
    "    def add_grade(self, grade):\n",
    "        self.grades.append(grade)\n",
    "\n",
    "    def calculate_average(self):\n",
    "        if not self.grades:\n",
    "            return 0\n",
    "        return sum(self.grades) / len(self.grades)\n",
    "\n",
    "    def display_details(self):\n",
    "        print(f\"Student ID: {self.student_id}\")\n",
    "        print(f\"Name: {self.name}\")\n",
    "        print(f\"Grades: {self.grades}\")\n",
    "        print(f\"Average Grade: {self.calculate_average():.2f}\")"
   ]
  },
  {
   "cell_type": "markdown",
   "id": "d7c7acf4",
   "metadata": {},
   "source": [
    "Problem 8: Email Management Create a class representing an email with attributes like sender, recipient, and subject. Implement methods to send an email and display email details."
   ]
  },
  {
   "cell_type": "code",
   "execution_count": null,
   "id": "f53110d4",
   "metadata": {},
   "outputs": [],
   "source": [
    "class Email:\n",
    "    def __init__(self, sender, recipient, subject, body=\"\"):\n",
    "        self.sender = sender\n",
    "        self.recipient = recipient\n",
    "        self.subject = subject\n",
    "        self.body = body\n",
    "        self.sent = False\n",
    "\n",
    "    def send_email(self):\n",
    "        self.sent = True\n",
    "        print(f\"Email sent successfully to {self.recipient}!\")\n",
    "\n",
    "    def display_details(self):\n",
    "        print(\"Email Details:\")\n",
    "        print(f\"From: {self.sender}\")\n",
    "        print(f\"To: {self.recipient}\")\n",
    "        print(f\"Subject: {self.subject}\")\n",
    "        print(f\"Body: {self.body}\")\n",
    "        print(f\"Status: {'Sent' if self.sent else 'Not Sent'}\")"
   ]
  },
  {
   "cell_type": "markdown",
   "id": "60138f50",
   "metadata": {},
   "source": [
    "Problem 9: Social Media Profile Create a class representing a social media profile with attributes like username and posts. Implement methods to add posts, display posts, and search for posts by keyword."
   ]
  },
  {
   "cell_type": "code",
   "execution_count": null,
   "id": "d9ec1e40",
   "metadata": {},
   "outputs": [],
   "source": [
    "class SocialMediaProfile:\n",
    "    def __init__(self, username):\n",
    "        self.username = username\n",
    "        self.posts = []\n",
    "\n",
    "    def add_post(self, content):\n",
    "        self.posts.append(content)\n",
    "        print(f\"Post added: \\\"{content}\\\"\")\n",
    "\n",
    "    def display_posts(self):\n",
    "        if not self.posts:\n",
    "            print(f\"{self.username} has no posts.\")\n",
    "        else:\n",
    "            print(f\"{self.username}'s Posts:\")\n",
    "            for index, post in enumerate(self.posts, start=1):\n",
    "                print(f\"{index}. {post}\")\n",
    "\n",
    "    def search_posts(self, keyword):\n",
    "        print(f\"Searching for posts containing \\\"{keyword}\\\"...\")\n",
    "        found = [post for post in self.posts if keyword.lower() in post.lower()]\n",
    "        if found:\n",
    "            for i, post in enumerate(found, start=1):\n",
    "                print(f\"{i}. {post}\")\n",
    "        else:\n",
    "            print(\"No matching posts found.\")"
   ]
  },
  {
   "cell_type": "markdown",
   "id": "bea59828",
   "metadata": {},
   "source": [
    "Problem 10: ToDo List Create a class representing a ToDo list with attributes like tasks and due dates. Implement methods to add tasks, mark tasks as completed, and display pending tasks."
   ]
  },
  {
   "cell_type": "code",
   "execution_count": null,
   "id": "c7029813",
   "metadata": {},
   "outputs": [],
   "source": [
    "class Task:\n",
    "    def __init__(self, description, due_date=None):\n",
    "        self.description = description\n",
    "        self.due_date = due_date\n",
    "        self.completed = False\n",
    "\n",
    "    def __str__(self):\n",
    "        status = \"✓\" if self.completed else \"✗\"\n",
    "        due = f\" (Due: {self.due_date})\" if self.due_date else \"\"\n",
    "        return f\"[{status}] {self.description}{due}\"\n",
    "\n",
    "\n",
    "class ToDoList:\n",
    "    def __init__(self):\n",
    "        self.tasks = []\n",
    "\n",
    "    def add_task(self, description, due_date=None):\n",
    "        task = Task(description, due_date)\n",
    "        self.tasks.append(task)\n",
    "        print(f\"Task added: \\\"{description}\\\"\")\n",
    "\n",
    "    def mark_completed(self, task_number):\n",
    "        if 0 < task_number <= len(self.tasks):\n",
    "            self.tasks[task_number - 1].completed = True\n",
    "            print(f\"Task {task_number} marked as completed.\")\n",
    "        else:\n",
    "            print(\"Invalid task number.\")\n",
    "\n",
    "    def display_pending_tasks(self):\n",
    "        print(\"Pending Tasks:\")\n",
    "        pending = [task for task in self.tasks if not task.completed]\n",
    "        if not pending:\n",
    "            print(\"No pending tasks!\")\n",
    "        else:\n",
    "            for i, task in enumerate(pending, start=1):\n",
    "                print(f\"{i}. {task}\")"
   ]
  }
 ],
 "metadata": {
  "kernelspec": {
   "display_name": "Python 3",
   "language": "python",
   "name": "python3"
  },
  "language_info": {
   "codemirror_mode": {
    "name": "ipython",
    "version": 3
   },
   "file_extension": ".py",
   "mimetype": "text/x-python",
   "name": "python",
   "nbconvert_exporter": "python",
   "pygments_lexer": "ipython3",
   "version": "3.11.9"
  }
 },
 "nbformat": 4,
 "nbformat_minor": 5
}
