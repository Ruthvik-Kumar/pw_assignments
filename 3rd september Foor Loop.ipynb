{
 "cells": [
  {
   "cell_type": "markdown",
   "metadata": {},
   "source": [
    "## For Loop Questions"
   ]
  },
  {
   "cell_type": "markdown",
   "metadata": {},
   "source": [
    "##### 1. Print numbers from 1 to 10 using a for loop"
   ]
  },
  {
   "cell_type": "code",
   "execution_count": null,
   "metadata": {},
   "outputs": [],
   "source": [
    "for i in range(1, 11):\n",
    "    print(i)"
   ]
  },
  {
   "cell_type": "markdown",
   "metadata": {},
   "source": [
    "##### 2. Calculate the sum of all numbers in a list using a for loop"
   ]
  },
  {
   "cell_type": "code",
   "execution_count": null,
   "metadata": {},
   "outputs": [],
   "source": [
    "numbers = [1, 2, 3, 4, 5]\n",
    "total_sum = 0\n",
    "\n",
    "for num in numbers:\n",
    "    total_sum += num\n",
    "\n",
    "print(\"Sum of numbers:\", total_sum)"
   ]
  },
  {
   "cell_type": "markdown",
   "metadata": {},
   "source": [
    "##### 3. Print the characters of a string in reverse order using a for loop"
   ]
  },
  {
   "cell_type": "code",
   "execution_count": null,
   "metadata": {},
   "outputs": [],
   "source": [
    "string = \"Hello\"\n",
    "for char in reversed(string):\n",
    "    print(char, end=\"\")"
   ]
  },
  {
   "cell_type": "markdown",
   "metadata": {},
   "source": [
    "##### 4. Find the factorial of a given number using a for loop"
   ]
  },
  {
   "cell_type": "code",
   "execution_count": null,
   "metadata": {},
   "outputs": [],
   "source": [
    "num = 5\n",
    "factorial = 1\n",
    "\n",
    "for i in range(1, num + 1):\n",
    "    factorial *= i\n",
    "\n",
    "print(f\"Factorial of {num} is {factorial}\")"
   ]
  },
  {
   "cell_type": "markdown",
   "metadata": {},
   "source": [
    "##### 5. Print the multiplication table of a given number using a for loop"
   ]
  },
  {
   "cell_type": "code",
   "execution_count": null,
   "metadata": {},
   "outputs": [],
   "source": [
    "n = 5\n",
    "for i in range(1, 11):\n",
    "    print(f\"{n} x {i} = {n * i}\")"
   ]
  },
  {
   "cell_type": "markdown",
   "metadata": {},
   "source": [
    "##### 6. Count the number of even and odd numbers in a list using a for loop"
   ]
  },
  {
   "cell_type": "code",
   "execution_count": null,
   "metadata": {},
   "outputs": [],
   "source": [
    "numbers = [1, 2, 3, 4, 5, 6, 7, 8, 9, 10]\n",
    "even_count = 0\n",
    "odd_count = 0\n",
    "\n",
    "for num in numbers:\n",
    "    if num % 2 == 0:\n",
    "        even_count += 1\n",
    "    else:\n",
    "        odd_count += 1\n",
    "\n",
    "print(f\"Even numbers: {even_count}, Odd numbers: {odd_count}\")"
   ]
  },
  {
   "cell_type": "markdown",
   "metadata": {},
   "source": [
    "##### 7. Print the squares of numbers from 1 to 5 using a for loop"
   ]
  },
  {
   "cell_type": "code",
   "execution_count": null,
   "metadata": {},
   "outputs": [],
   "source": [
    "for i in range(1, 6):\n",
    "    print(f\"Square of {i} is {i**2}\")"
   ]
  },
  {
   "cell_type": "markdown",
   "metadata": {},
   "source": [
    "##### 8. Find the length of a string without using the len() function"
   ]
  },
  {
   "cell_type": "code",
   "execution_count": null,
   "metadata": {},
   "outputs": [],
   "source": [
    "string = \"Hello, World!\"\n",
    "length = 0\n",
    "\n",
    "for char in string:\n",
    "    length += 1\n",
    "\n",
    "print(f\"Length of the string is: {length}\")"
   ]
  },
  {
   "cell_type": "markdown",
   "metadata": {},
   "source": [
    "##### 9. Calculate the average of a list of numbers using a for loop"
   ]
  },
  {
   "cell_type": "code",
   "execution_count": null,
   "metadata": {},
   "outputs": [],
   "source": [
    "numbers = [10, 20, 30, 40, 50]\n",
    "total_sum = 0\n",
    "\n",
    "for num in numbers:\n",
    "    total_sum += num\n",
    "\n",
    "average = total_sum / len(numbers)\n",
    "print(f\"Average of numbers: {average}\")"
   ]
  },
  {
   "cell_type": "markdown",
   "metadata": {},
   "source": [
    "##### 10. Print the first n Fibonacci numbers using a for loop"
   ]
  },
  {
   "cell_type": "code",
   "execution_count": null,
   "metadata": {},
   "outputs": [],
   "source": [
    "n = 10\n",
    "fib = [0, 1]\n",
    "\n",
    "for i in range(2, n):\n",
    "    next_fib = fib[-1] + fib[-2]\n",
    "    fib.append(next_fib)\n",
    "\n",
    "print(f\"First {n} Fibonacci numbers: {fib}\")"
   ]
  },
  {
   "cell_type": "markdown",
   "metadata": {},
   "source": [
    "##### 11. Check if a list contains any duplicates using a for loop"
   ]
  },
  {
   "cell_type": "code",
   "execution_count": null,
   "metadata": {},
   "outputs": [],
   "source": [
    "def contains_duplicates(lst):\n",
    "    for i in range(len(lst)):\n",
    "        for j in range(i + 1, len(lst)):\n",
    "            if lst[i] == lst[j]:\n",
    "                return True\n",
    "    return False\n",
    "\n",
    "numbers = [1, 2, 3, 4, 5, 6, 1]\n",
    "print(\"Contains duplicates:\", contains_duplicates(numbers))"
   ]
  },
  {
   "cell_type": "markdown",
   "metadata": {},
   "source": [
    "##### 12. Print the prime numbers in a given range using a for loop"
   ]
  },
  {
   "cell_type": "code",
   "execution_count": null,
   "metadata": {},
   "outputs": [],
   "source": [
    "def is_prime(num):\n",
    "    if num < 2:\n",
    "        return False\n",
    "    for i in range(2, int(num ** 0.5) + 1):\n",
    "        if num % i == 0:\n",
    "            return False\n",
    "    return True\n",
    "\n",
    "start, end = 10, 50\n",
    "for num in range(start, end + 1):\n",
    "    if is_prime(num):\n",
    "        print(num, end=\" \")"
   ]
  },
  {
   "cell_type": "markdown",
   "metadata": {},
   "source": [
    "##### 13. Count the number of vowels in a string using a for loop"
   ]
  },
  {
   "cell_type": "code",
   "execution_count": null,
   "metadata": {},
   "outputs": [],
   "source": [
    "vowels = \"aeiouAEIOU\"\n",
    "string = \"Hello, how are you?\"\n",
    "vowel_count = 0\n",
    "\n",
    "for char in string:\n",
    "    if char in vowels:\n",
    "        vowel_count += 1\n",
    "\n",
    "print(f\"Number of vowels: {vowel_count}\")"
   ]
  },
  {
   "cell_type": "markdown",
   "metadata": {},
   "source": [
    "##### 14. Find the maximum element in a 2D list using a nested for loop"
   ]
  },
  {
   "cell_type": "code",
   "execution_count": null,
   "metadata": {},
   "outputs": [],
   "source": [
    "matrix = [[3, 8, 7], [5, 6, 12], [9, 4, 11]]\n",
    "max_value = matrix[0][0]\n",
    "\n",
    "for row in matrix:\n",
    "    for element in row:\n",
    "        if element > max_value:\n",
    "            max_value = element\n",
    "\n",
    "print(f\"Maximum element in the 2D list: {max_value}\")"
   ]
  },
  {
   "cell_type": "markdown",
   "metadata": {},
   "source": [
    "##### 15. Remove all occurrences of a specific element from a list using a for loop"
   ]
  },
  {
   "cell_type": "code",
   "execution_count": null,
   "metadata": {},
   "outputs": [],
   "source": [
    "def remove_element(lst, element):\n",
    "    result = []\n",
    "    for item in lst:\n",
    "        if item != element:\n",
    "            result.append(item)\n",
    "    return result\n",
    "\n",
    "numbers = [1, 2, 3, 4, 3, 5, 3]\n",
    "element_to_remove = 3\n",
    "numbers = remove_element(numbers, element_to_remove)\n",
    "print(\"List after removing element:\", numbers)"
   ]
  },
  {
   "cell_type": "markdown",
   "metadata": {},
   "source": [
    "##### 16. Generate a multiplication table for numbers from 1 to 5 using a nested for loop"
   ]
  },
  {
   "cell_type": "code",
   "execution_count": null,
   "metadata": {},
   "outputs": [],
   "source": [
    "for i in range(1, 6):\n",
    "    for j in range(1, 11):\n",
    "        print(f\"{i} x {j} = {i * j}\")\n",
    "    print()  # For a new line after each table"
   ]
  },
  {
   "cell_type": "markdown",
   "metadata": {},
   "source": [
    "##### 17. Convert a list of Fahrenheit temperatures to Celsius using a for loop"
   ]
  },
  {
   "cell_type": "code",
   "execution_count": null,
   "metadata": {},
   "outputs": [],
   "source": [
    "fahrenheit_temps = [32, 68, 104, 140, 212]\n",
    "celsius_temps = []\n",
    "\n",
    "for temp in fahrenheit_temps:\n",
    "    celsius = (temp - 32) * 5 / 9\n",
    "    celsius_temps.append(celsius)\n",
    "\n",
    "print(\"Celsius temperatures:\", celsius_temps)"
   ]
  },
  {
   "cell_type": "markdown",
   "metadata": {},
   "source": [
    "##### 18. Print the common elements from two lists using a for loop"
   ]
  },
  {
   "cell_type": "code",
   "execution_count": null,
   "metadata": {},
   "outputs": [],
   "source": [
    "list1 = [1, 2, 3, 4, 5]\n",
    "list2 = [4, 5, 6, 7, 8]\n",
    "common_elements = []\n",
    "\n",
    "for element in list1:\n",
    "    if element in list2:\n",
    "        common_elements.append(element)\n",
    "\n",
    "print(\"Common elements:\", common_elements)"
   ]
  },
  {
   "cell_type": "markdown",
   "metadata": {},
   "source": [
    "##### 19. Print the pattern of right-angled triangles using a for loop"
   ]
  },
  {
   "cell_type": "code",
   "execution_count": null,
   "metadata": {},
   "outputs": [],
   "source": [
    "rows = 5\n",
    "for i in range(1, rows + 1):\n",
    "    print('*' * i)"
   ]
  },
  {
   "cell_type": "markdown",
   "metadata": {},
   "source": [
    "##### 20. Find the greatest common divisor (GCD) of two numbers using a for loop"
   ]
  },
  {
   "cell_type": "code",
   "execution_count": null,
   "metadata": {},
   "outputs": [],
   "source": [
    "def gcd(a, b):\n",
    "    smaller = min(a, b)\n",
    "    for i in range(smaller, 0, -1):\n",
    "        if a % i == 0 and b % i == 0:\n",
    "            return i\n",
    "\n",
    "num1 = 48\n",
    "num2 = 18\n",
    "print(f\"GCD of {num1} and {num2}: {gcd(num1, num2)}\")"
   ]
  },
  {
   "cell_type": "markdown",
   "metadata": {},
   "source": [
    "##### 21. Calculate the sum of the digits of numbers in a list using list comprehension"
   ]
  },
  {
   "cell_type": "code",
   "execution_count": null,
   "metadata": {},
   "outputs": [],
   "source": [
    "numbers = [123, 456, 789]\n",
    "digit_sums = [sum(int(digit) for digit in str(num)) for num in numbers]\n",
    "print(\"Sum of digits of numbers in the list:\", digit_sums)"
   ]
  },
  {
   "cell_type": "markdown",
   "metadata": {},
   "source": [
    "##### 22. Find the prime factors of a given number using a for loop and list comprehension"
   ]
  },
  {
   "cell_type": "code",
   "execution_count": null,
   "metadata": {},
   "outputs": [],
   "source": [
    "def prime_factors(n):\n",
    "    factors = []\n",
    "    for i in range(2, n + 1):\n",
    "        while n % i == 0:\n",
    "            factors.append(i)\n",
    "            n //= i\n",
    "    return factors\n",
    "\n",
    "number = 56\n",
    "print(f\"Prime factors of {number}:\", prime_factors(number))"
   ]
  },
  {
   "cell_type": "markdown",
   "metadata": {},
   "source": [
    "##### 23. Extract unique elements from a list and store them in a new list using list comprehension"
   ]
  },
  {
   "cell_type": "code",
   "execution_count": null,
   "metadata": {},
   "outputs": [],
   "source": [
    "numbers = [1, 2, 2, 3, 4, 4, 5]\n",
    "unique_elements = [num for num in numbers if numbers.count(num) == 1]\n",
    "print(\"Unique elements:\", unique_elements)"
   ]
  },
  {
   "cell_type": "markdown",
   "metadata": {},
   "source": [
    "##### 24. Generate a list of all palindromic numbers up to a specified limit using list comprehension"
   ]
  },
  {
   "cell_type": "code",
   "execution_count": null,
   "metadata": {},
   "outputs": [],
   "source": [
    "limit = 200\n",
    "palindromic_numbers = [num for num in range(limit) if str(num) == str(num)[::-1]]\n",
    "print(\"Palindromic numbers up to\", limit, \":\", palindromic_numbers)"
   ]
  },
  {
   "cell_type": "markdown",
   "metadata": {},
   "source": [
    "##### 25. Flatten a nested list using list comprehension"
   ]
  },
  {
   "cell_type": "code",
   "execution_count": null,
   "metadata": {},
   "outputs": [],
   "source": [
    "nested_list = [[1, 2], [3, 4], [5, 6]]\n",
    "flattened_list = [item for sublist in nested_list for item in sublist]\n",
    "print(\"Flattened list:\", flattened_list)"
   ]
  },
  {
   "cell_type": "markdown",
   "metadata": {},
   "source": [
    "##### 26. Compute the sum of even and odd numbers in a list separately using list comprehension"
   ]
  },
  {
   "cell_type": "code",
   "execution_count": null,
   "metadata": {},
   "outputs": [],
   "source": [
    "numbers = [1, 2, 3, 4, 5, 6, 7, 8, 9, 10]\n",
    "sum_even = sum([num for num in numbers if num % 2 == 0])\n",
    "sum_odd = sum([num for num in numbers if num % 2 != 0])\n",
    "print(\"Sum of even numbers:\", sum_even)\n",
    "print(\"Sum of odd numbers:\", sum_odd)"
   ]
  },
  {
   "cell_type": "markdown",
   "metadata": {},
   "source": [
    "##### 27. Generate a list of squares of odd numbers between 1 and 10 using list comprehension"
   ]
  },
  {
   "cell_type": "code",
   "execution_count": null,
   "metadata": {},
   "outputs": [],
   "source": [
    "squares_of_odd = [num ** 2 for num in range(1, 11) if num % 2 != 0]\n",
    "print(\"Squares of odd numbers between 1 and 10:\", squares_of_odd)"
   ]
  },
  {
   "cell_type": "markdown",
   "metadata": {},
   "source": [
    "##### 28. Combine two lists into a dictionary using list comprehension"
   ]
  },
  {
   "cell_type": "code",
   "execution_count": null,
   "metadata": {},
   "outputs": [],
   "source": [
    "keys = ['a', 'b', 'c']\n",
    "values = [1, 2, 3]\n",
    "dictionary = {keys[i]: values[i] for i in range(len(keys))}\n",
    "print(\"Dictionary from two lists:\", dictionary)"
   ]
  },
  {
   "cell_type": "markdown",
   "metadata": {},
   "source": [
    "##### 29. Extract the vowels from a string and store them in a list using list comprehension"
   ]
  },
  {
   "cell_type": "code",
   "execution_count": null,
   "metadata": {},
   "outputs": [],
   "source": [
    "string = \"This is a sample string.\"\n",
    "vowels = [char for char in string if char.lower() in 'aeiou']\n",
    "print(\"Vowels in the string:\", vowels)"
   ]
  },
  {
   "cell_type": "markdown",
   "metadata": {},
   "source": [
    "##### 30. Remove all non-numeric characters from a list of strings using list comprehension"
   ]
  },
  {
   "cell_type": "code",
   "execution_count": null,
   "metadata": {},
   "outputs": [],
   "source": [
    "strings = ['abc123', '45def', '78ghi90']\n",
    "numeric_strings = [''.join([char for char in s if char.isdigit()]) for s in strings]\n",
    "print(\"Strings with only numeric characters:\", numeric_strings)"
   ]
  },
  {
   "cell_type": "markdown",
   "metadata": {},
   "source": [
    "##### 31. Generate a list of prime numbers using the Sieve of Eratosthenes algorithm and list comprehension"
   ]
  },
  {
   "cell_type": "code",
   "execution_count": null,
   "metadata": {},
   "outputs": [],
   "source": [
    "def sieve_of_eratosthenes(limit):\n",
    "    sieve = [True] * (limit + 1)\n",
    "    sieve[0], sieve[1] = False, False\n",
    "    for num in range(2, int(limit ** 0.5) + 1):\n",
    "        if sieve[num]:\n",
    "            for multiple in range(num * num, limit + 1, num):\n",
    "                sieve[multiple] = False\n",
    "    return [num for num, is_prime in enumerate(sieve) if is_prime]\n",
    "\n",
    "limit = 50\n",
    "prime_numbers = sieve_of_eratosthenes(limit)\n",
    "print(f\"Prime numbers up to {limit}:\", prime_numbers)"
   ]
  },
  {
   "cell_type": "markdown",
   "metadata": {},
   "source": [
    "##### 32. Generate a list of all Pythagorean triplets up to a specified limit using list comprehension"
   ]
  },
  {
   "cell_type": "code",
   "execution_count": null,
   "metadata": {},
   "outputs": [],
   "source": [
    "limit = 20\n",
    "pythagorean_triplets = [(a, b, c) for a in range(1, limit) for b in range(a, limit) for c in range(b, limit) if a**2 + b**2 == c**2]\n",
    "print(f\"Pythagorean triplets up to {limit}:\", pythagorean_triplets)"
   ]
  },
  {
   "cell_type": "markdown",
   "metadata": {},
   "source": [
    "##### 33. Generate a list of all possible combinations of two lists using list comprehension"
   ]
  },
  {
   "cell_type": "code",
   "execution_count": null,
   "metadata": {},
   "outputs": [],
   "source": [
    "list1 = [1, 2, 3]\n",
    "list2 = ['a', 'b', 'c']\n",
    "combinations = [(x, y) for x in list1 for y in list2]\n",
    "print(\"All possible combinations:\", combinations)"
   ]
  },
  {
   "cell_type": "markdown",
   "metadata": {},
   "source": [
    "##### 34. Calculate the mean, median, and mode of a list of numbers using list comprehension"
   ]
  },
  {
   "cell_type": "code",
   "execution_count": null,
   "metadata": {},
   "outputs": [],
   "source": [
    "from statistics import mean, median, mode\n",
    "\n",
    "numbers = [1, 2, 2, 3, 4, 4, 4, 5, 6]\n",
    "mean_value = mean(numbers)\n",
    "median_value = median(numbers)\n",
    "mode_value = mode(numbers)\n",
    "\n",
    "print(\"Mean:\", mean_value)\n",
    "print(\"Median:\", median_value)\n",
    "print(\"Mode:\", mode_value)"
   ]
  },
  {
   "cell_type": "markdown",
   "metadata": {},
   "source": [
    "##### 35. Generate Pascal's triangle up to a specified number of rows using list comprehension"
   ]
  },
  {
   "cell_type": "code",
   "execution_count": null,
   "metadata": {},
   "outputs": [],
   "source": [
    "def pascals_triangle(rows):\n",
    "    triangle = [[1]]\n",
    "    for i in range(1, rows):\n",
    "        row = [1] + [triangle[i-1][j-1] + triangle[i-1][j] for j in range(1, i)] + [1]\n",
    "        triangle.append(row)\n",
    "    return triangle\n",
    "\n",
    "rows = 5\n",
    "triangle = pascals_triangle(rows)\n",
    "print(\"Pascal's triangle:\")\n",
    "for row in triangle:\n",
    "    print(row)"
   ]
  },
  {
   "cell_type": "markdown",
   "metadata": {},
   "source": [
    "##### 36. Calculate the sum of the digits of a factorial of numbers from 1 to 5 using list comprehension"
   ]
  },
  {
   "cell_type": "code",
   "execution_count": null,
   "metadata": {},
   "outputs": [],
   "source": [
    "import math\n",
    "\n",
    "factorial_digit_sums = [sum(int(digit) for digit in str(math.factorial(n))) for n in range(1, 6)]\n",
    "print(\"Sum of the digits of factorials from 1 to 5:\", factorial_digit_sums)"
   ]
  },
  {
   "cell_type": "markdown",
   "metadata": {},
   "source": [
    "##### 37. Find the longest word in a sentence using list comprehension"
   ]
  },
  {
   "cell_type": "code",
   "execution_count": null,
   "metadata": {},
   "outputs": [],
   "source": [
    "sentence = \"Find the longest word in this sentence.\"\n",
    "words = sentence.split()\n",
    "longest_word = max(words, key=len)\n",
    "print(\"Longest word:\", longest_word)"
   ]
  },
  {
   "cell_type": "markdown",
   "metadata": {},
   "source": [
    "##### 38. Filter a list of strings to include only those with more than three vowels using list comprehension"
   ]
  },
  {
   "cell_type": "code",
   "execution_count": null,
   "metadata": {},
   "outputs": [],
   "source": [
    "def count_vowels(word):\n",
    "    return sum(1 for char in word.lower() if char in 'aeiou')\n",
    "\n",
    "strings = [\"education\", \"apple\", \"rhythm\", \"amplify\", \"umbrella\"]\n",
    "filtered_strings = [word for word in strings if count_vowels(word) > 3]\n",
    "print(\"Strings with more than three vowels:\", filtered_strings)"
   ]
  },
  {
   "cell_type": "markdown",
   "metadata": {},
   "source": [
    "##### 39. Calculate the sum of the digits of numbers from 1 to 1000 using list comprehension"
   ]
  },
  {
   "cell_type": "code",
   "execution_count": null,
   "metadata": {},
   "outputs": [],
   "source": [
    "digit_sums = [sum(int(digit) for digit in str(num)) for num in range(1, 1001)]\n",
    "print(\"Sum of digits of numbers from 1 to 1000:\", sum(digit_sums))"
   ]
  },
  {
   "cell_type": "markdown",
   "metadata": {},
   "source": [
    "##### 40. Generate a list of prime palindromic numbers using list comprehension"
   ]
  },
  {
   "cell_type": "code",
   "execution_count": 1,
   "metadata": {},
   "outputs": [
    {
     "ename": "NameError",
     "evalue": "name 'sieve_of_eratosthenes' is not defined",
     "output_type": "error",
     "traceback": [
      "\u001b[1;31m---------------------------------------------------------------------------\u001b[0m",
      "\u001b[1;31mNameError\u001b[0m                                 Traceback (most recent call last)",
      "Cell \u001b[1;32mIn[1], line 4\u001b[0m\n\u001b[0;32m      1\u001b[0m \u001b[38;5;28;01mdef\u001b[39;00m \u001b[38;5;21mis_palindrome\u001b[39m(num):\n\u001b[0;32m      2\u001b[0m     \u001b[38;5;28;01mreturn\u001b[39;00m \u001b[38;5;28mstr\u001b[39m(num) \u001b[38;5;241m==\u001b[39m \u001b[38;5;28mstr\u001b[39m(num)[::\u001b[38;5;241m-\u001b[39m\u001b[38;5;241m1\u001b[39m]\n\u001b[1;32m----> 4\u001b[0m prime_palindromes \u001b[38;5;241m=\u001b[39m [num \u001b[38;5;28;01mfor\u001b[39;00m num \u001b[38;5;129;01min\u001b[39;00m \u001b[43msieve_of_eratosthenes\u001b[49m(\u001b[38;5;241m1000\u001b[39m) \u001b[38;5;28;01mif\u001b[39;00m is_palindrome(num)]\n\u001b[0;32m      5\u001b[0m \u001b[38;5;28mprint\u001b[39m(\u001b[38;5;124m\"\u001b[39m\u001b[38;5;124mPrime palindromic numbers:\u001b[39m\u001b[38;5;124m\"\u001b[39m, prime_palindromes)\n",
      "\u001b[1;31mNameError\u001b[0m: name 'sieve_of_eratosthenes' is not defined"
     ]
    }
   ],
   "source": [
    "def is_palindrome(num):\n",
    "    return str(num) == str(num)[::-1]\n",
    "\n",
    "prime_palindromes = [num for num in sieve_of_eratosthenes(1000) if is_palindrome(num)]\n",
    "print(\"Prime palindromic numbers:\", prime_palindromes)"
   ]
  },
  {
   "cell_type": "code",
   "execution_count": null,
   "metadata": {},
   "outputs": [],
   "source": []
  }
 ],
 "metadata": {
  "kernelspec": {
   "display_name": "Python 3",
   "language": "python",
   "name": "python3"
  },
  "language_info": {
   "codemirror_mode": {
    "name": "ipython",
    "version": 3
   },
   "file_extension": ".py",
   "mimetype": "text/x-python",
   "name": "python",
   "nbconvert_exporter": "python",
   "pygments_lexer": "ipython3",
   "version": "3.11.9"
  }
 },
 "nbformat": 4,
 "nbformat_minor": 2
}
