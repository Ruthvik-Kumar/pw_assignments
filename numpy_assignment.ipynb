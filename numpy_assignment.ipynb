{
 "cells": [
  {
   "cell_type": "markdown",
   "metadata": {},
   "source": [
    "##### 1. What is a Python library? Why do we use Python libraries?"
   ]
  },
  {
   "cell_type": "code",
   "execution_count": null,
   "metadata": {},
   "outputs": [],
   "source": [
    "\"\"\"\n",
    "A Python library is a collection of pre-written code that provides functions and modules to perform specific tasks.\n",
    "Python libraries simplify development by reducing the need to write complex code from scratch and makes code modular and reusable. \n",
    "\"\"\""
   ]
  },
  {
   "cell_type": "markdown",
   "metadata": {},
   "source": [
    "##### 2. What is the difference between Numpy array and List?"
   ]
  },
  {
   "cell_type": "code",
   "execution_count": null,
   "metadata": {},
   "outputs": [],
   "source": [
    "\"\"\"\n",
    "Faster and more efficient due to contiguous memory allocation\tSlower due to dynamic typing and memory overhead\n",
    "\tSupports element-wise operations (e.g., array1 + array2)\tRequires manual iteration for operations\n",
    "\tHomogeneous (all elements must have the same data type)\tHeterogeneous (can contain mixed data types)\n",
    "\tMore memory-efficient\tTakes more memory\n",
    "Supports multi-dimensional arrays\tRequires nested lists for multi-dimensional representation\n",
    "\"\"\""
   ]
  },
  {
   "cell_type": "markdown",
   "metadata": {},
   "source": [
    "##### 3. Find the shape, size and dimension of the following array?\n",
    "[[1, 2, 3, 4]\n",
    "[5, 6, 7, 8],\n",
    "[9, 10, 11, 12]]"
   ]
  },
  {
   "cell_type": "code",
   "execution_count": null,
   "metadata": {},
   "outputs": [],
   "source": [
    "import numpy as np\n",
    "arr = np.array([[1, 2, 3, 4], \n",
    "                [5, 6, 7, 8], \n",
    "                [9, 10, 11, 12]])\n",
    "\n",
    "print(\"Shape:\", arr.shape)  \n",
    "print(\"Size:\", arr.size)    \n",
    "print(\"Dimensions:\", arr.ndim)"
   ]
  },
  {
   "cell_type": "markdown",
   "metadata": {},
   "source": [
    "##### 4. Write python code to access the first row of the following array?\n",
    "[[1, 2, 3, 4]\n",
    "[5, 6, 7, 8],\n",
    "[9, 10, 11, 12]]"
   ]
  },
  {
   "cell_type": "code",
   "execution_count": null,
   "metadata": {},
   "outputs": [],
   "source": [
    "first_row = arr[0]\n",
    "print(first_row)"
   ]
  },
  {
   "cell_type": "markdown",
   "metadata": {},
   "source": [
    "##### 5. How do you access the element at the third row and fourth column from the given numpy array?\n",
    "[[1, 2, 3, 4]\n",
    "[5, 6, 7, 8],\n",
    "[9, 10, 11, 12]]"
   ]
  },
  {
   "cell_type": "code",
   "execution_count": null,
   "metadata": {},
   "outputs": [],
   "source": [
    "element = arr[2, 3] \n",
    "print(element)"
   ]
  },
  {
   "cell_type": "markdown",
   "metadata": {},
   "source": [
    "##### 6. Write code to extract all odd-indexed elements from the given numpy array?\n",
    "[[1, 2, 3, 4]\n",
    "[5, 6, 7, 8],\n",
    "[9, 10, 11, 12]]"
   ]
  },
  {
   "cell_type": "code",
   "execution_count": null,
   "metadata": {},
   "outputs": [],
   "source": [
    "odd_indexed_elements = arr[:, 1::2]\n",
    "print(odd_indexed_elements)"
   ]
  },
  {
   "cell_type": "markdown",
   "metadata": {},
   "source": [
    "##### 7. How can you generate a random 3x3 matrix with values between 0 and 1?"
   ]
  },
  {
   "cell_type": "code",
   "execution_count": null,
   "metadata": {},
   "outputs": [],
   "source": [
    "random_matrix = np.random.rand(3, 3)\n",
    "print(random_matrix)"
   ]
  },
  {
   "cell_type": "markdown",
   "metadata": {},
   "source": [
    "##### 8. Describe the difference between np.random.rand and np.random.randn?"
   ]
  },
  {
   "cell_type": "code",
   "execution_count": null,
   "metadata": {},
   "outputs": [],
   "source": [
    "\"\"\"\n",
    "np.random.rand(d0, d1, ..., dn): Generates random numbers from a uniform distribution between 0 and 1.\n",
    "\n",
    "np.random.randn(d0, d1, ..., dn): Generates random numbers from a standard normal distribution (mean = 0, variance = 1).\n",
    "\n",
    "\"\"\""
   ]
  },
  {
   "cell_type": "markdown",
   "metadata": {},
   "source": [
    "##### 9. Write code to increase the dimension of the following array?\n",
    "[[1, 2, 3, 4]\n",
    "[5, 6, 7, 8],\n",
    "[9, 10, 11, 12]]"
   ]
  },
  {
   "cell_type": "code",
   "execution_count": null,
   "metadata": {},
   "outputs": [],
   "source": [
    "expanded_arr = np.expand_dims(arr, axis=0) \n",
    "print(expanded_arr.shape)"
   ]
  },
  {
   "cell_type": "markdown",
   "metadata": {},
   "source": [
    "##### 10. How to transpose the following array in NumPy?\n",
    "[[1, 2, 3, 4],\n",
    "[5, 6, 7, 8],\n",
    "[9, 10, 11, 12]]"
   ]
  },
  {
   "cell_type": "code",
   "execution_count": null,
   "metadata": {},
   "outputs": [],
   "source": [
    "transposed_arr = arr.T()\n",
    "print(transposed_arr)"
   ]
  },
  {
   "cell_type": "markdown",
   "metadata": {},
   "source": [
    "##### 11. Consider the following matrix:\n",
    "Matrix A: [[1, 2, 3, 4] [5, 6, 7, 8],[9, 10, 11, 12]]\n",
    "Matrix B: [[1, 2, 3, 4] [5, 6, 7, 8],[9, 10, 11, 12]]\n",
    "\n",
    "Perform the following operation using Python\n",
    "Index wise multiplication\n",
    "Matrix multiplication\n",
    "Add both the matrics\n",
    "Subtract matrix B from A\n",
    "Divide Matrix B by A"
   ]
  },
  {
   "cell_type": "code",
   "execution_count": null,
   "metadata": {},
   "outputs": [],
   "source": [
    "\"\"\"\n",
    "import numpy as np\n",
    "\n",
    "# Define matrices A and B\n",
    "A = np.array([[1, 2, 3, 4], \n",
    "              [5, 6, 7, 8], \n",
    "              [9, 10, 11, 12]])\n",
    "\n",
    "B = np.array([[1, 2, 3, 4], \n",
    "              [5, 6, 7, 8], \n",
    "              [9, 10, 11, 12]])\n",
    "\n",
    "# Index-wise multiplication (Element-wise multiplication)\n",
    "index_wise_multiplication = A * B\n",
    "\n",
    "# **Matrix multiplication (dot product)**\n",
    "matrix_multiplication = np.dot(A, B.T)  # Transpose B for valid multiplication\n",
    "\n",
    "# Addition of matrices\n",
    "addition = A + B\n",
    "\n",
    "# Subtraction (A - B)\n",
    "subtraction = A - B\n",
    "\n",
    "# Element-wise division (B / A)\n",
    "division = B / A\n",
    "\n",
    "# Print results\n",
    "print(\"Index-wise Multiplication:\\n\", index_wise_multiplication)\n",
    "print(\"\\nMatrix Multiplication:\\n\", matrix_multiplication)\n",
    "print(\"\\nAddition:\\n\", addition)\n",
    "print(\"\\nSubtraction:\\n\", subtraction)\n",
    "print(\"\\nDivision:\\n\", division)\n",
    "\"\"\""
   ]
  },
  {
   "cell_type": "markdown",
   "metadata": {},
   "source": [
    "##### 12. Which function in Numpy can be used to swap the byte order of an array?"
   ]
  },
  {
   "cell_type": "code",
   "execution_count": null,
   "metadata": {},
   "outputs": [],
   "source": [
    "\"\"\"\n",
    "The numpy.ndarray.byteswap() function swaps the byte order of the elements in an array. \n",
    "This is useful for handling data with different endianness (byte ordering in memory).\n",
    "\"\"\"\n",
    "arr = np.array([1, 256, 1024], dtype=np.int16)\n",
    "swapped_arr = arr.byteswap()\n",
    "print(swapped_arr)"
   ]
  },
  {
   "cell_type": "markdown",
   "metadata": {},
   "source": [
    "##### 13. What is the significance of the np.linalg.inv function?"
   ]
  },
  {
   "cell_type": "code",
   "execution_count": null,
   "metadata": {},
   "outputs": [],
   "source": [
    "\"\"\"\n",
    "The np.linalg.inv() function computes the inverse of a square matrix. The inverse of a matrix A is denoted as A⁻¹, and when multiplied by A, it results in an identity matrix:\n",
    "\n",
    "𝐴×𝐴−1=𝐼A×A−1 =I\n",
    "This function is useful in solving systems of linear equations and transformations.\n",
    "\"\"\"\n",
    "A = np.array([[4, 7], \n",
    "              [2, 6]])\n",
    "\n",
    "inverse_A = np.linalg.inv(A)\n",
    "print(inverse_A)\n"
   ]
  },
  {
   "cell_type": "markdown",
   "metadata": {},
   "source": [
    "##### 14. What does the np.reshape function do, and how is it used?"
   ]
  },
  {
   "cell_type": "code",
   "execution_count": null,
   "metadata": {},
   "outputs": [],
   "source": [
    "\"\"\"\n",
    "The np.reshape() function changes the shape of an array without changing its data. \n",
    "It’s used for restructuring data into different dimensions.\n",
    "\"\"\"\n",
    "arr = np.array([1, 2, 3, 4, 5, 6])\n",
    "reshaped_arr = arr.reshape(2, 3)  # Convert 1D array to 2D\n",
    "print(reshaped_arr)"
   ]
  },
  {
   "cell_type": "markdown",
   "metadata": {},
   "source": [
    "##### 15. What is broadcasting in Numpy?"
   ]
  },
  {
   "cell_type": "code",
   "execution_count": null,
   "metadata": {},
   "outputs": [],
   "source": [
    "\"\"\"\n",
    "Broadcasting allows NumPy to perform arithmetic operations on arrays of different shapes without explicitly reshaping them. \n",
    "Instead of repeating values, NumPy automatically extends smaller arrays across the larger array when possible.\n",
    "\"\"\"\n",
    "#Example 1: Adding a scalar to a matrix\n",
    "A = np.array([[1, 2, 3], \n",
    "              [4, 5, 6]])\n",
    "\n",
    "B = 10  # Scalar value\n",
    "\n",
    "result = A + B\n",
    "print(result)\n",
    "\n",
    "#Example 2: Adding a 1D array to a 2D array\n",
    "A = np.array([[1, 2, 3], \n",
    "              [4, 5, 6]])\n",
    "\n",
    "B = np.array([10, 20, 30])\n",
    "\n",
    "result = A + B\n",
    "print(result)"
   ]
  }
 ],
 "metadata": {
  "language_info": {
   "name": "python"
  }
 },
 "nbformat": 4,
 "nbformat_minor": 2
}
