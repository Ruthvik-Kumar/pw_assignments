{
 "cells": [
  {
   "cell_type": "markdown",
   "metadata": {},
   "source": [
    "## Basic If-Else Statements"
   ]
  },
  {
   "cell_type": "markdown",
   "metadata": {},
   "source": [
    "##### 1. Check if a number is positive or negative"
   ]
  },
  {
   "cell_type": "code",
   "execution_count": null,
   "metadata": {},
   "outputs": [],
   "source": [
    "num = int(input(\"Enter a number: \"))\n",
    "if num >= 0:\n",
    "    print(f\"{num} is positive.\")\n",
    "else:\n",
    "    print(f\"{num} is negative.\")"
   ]
  },
  {
   "cell_type": "markdown",
   "metadata": {},
   "source": [
    "##### 2. Determine if a person is eligible to vote"
   ]
  },
  {
   "cell_type": "code",
   "execution_count": null,
   "metadata": {},
   "outputs": [],
   "source": [
    "age = int(input(\"Enter your age: \"))\n",
    "if age >= 18:\n",
    "    print(\"You are eligible to vote.\")\n",
    "else:\n",
    "    print(\"You are not eligible to vote.\")"
   ]
  },
  {
   "cell_type": "markdown",
   "metadata": {},
   "source": [
    "##### 3. Find the maximum of two numbers"
   ]
  },
  {
   "cell_type": "code",
   "execution_count": null,
   "metadata": {},
   "outputs": [],
   "source": [
    "a = int(input(\"Enter first number: \"))\n",
    "b = int(input(\"Enter second number: \"))\n",
    "if a > b:\n",
    "    print(f\"The maximum is {a}.\")\n",
    "else:\n",
    "    print(f\"The maximum is {b}.\")"
   ]
  },
  {
   "cell_type": "markdown",
   "metadata": {},
   "source": [
    "##### 4. Classify a year as leap year or not"
   ]
  },
  {
   "cell_type": "code",
   "execution_count": null,
   "metadata": {},
   "outputs": [],
   "source": [
    "year = int(input(\"Enter a year: \"))\n",
    "if year % 4 == 0 and (year % 100 != 0 or year % 400 == 0):\n",
    "    print(f\"{year} is a leap year.\")\n",
    "else:\n",
    "    print(f\"{year} is not a leap year.\")"
   ]
  },
  {
   "cell_type": "markdown",
   "metadata": {},
   "source": [
    "##### 5. Check if a character is a vowel or consonant"
   ]
  },
  {
   "cell_type": "code",
   "execution_count": null,
   "metadata": {},
   "outputs": [],
   "source": [
    "char = input(\"Enter a character: \").lower()\n",
    "if char in 'aeiou':\n",
    "    print(f\"{char} is a vowel.\")\n",
    "else:\n",
    "    print(f\"{char} is a consonant.\")"
   ]
  },
  {
   "cell_type": "markdown",
   "metadata": {},
   "source": [
    "##### 6. Determine if a number is even or odd"
   ]
  },
  {
   "cell_type": "code",
   "execution_count": null,
   "metadata": {},
   "outputs": [],
   "source": [
    "num = int(input(\"Enter a number: \"))\n",
    "if num % 2 == 0:\n",
    "    print(f\"{num} is even.\")\n",
    "else:\n",
    "    print(f\"{num} is odd.\")"
   ]
  },
  {
   "cell_type": "markdown",
   "metadata": {},
   "source": [
    "##### 7. Calculate the absolute value of a number"
   ]
  },
  {
   "cell_type": "code",
   "execution_count": null,
   "metadata": {},
   "outputs": [],
   "source": [
    "num = int(input(\"Enter a number: \"))\n",
    "if num >= 0:\n",
    "    print(f\"The absolute value is {num}.\")\n",
    "else:\n",
    "    print(f\"The absolute value is {-num}.\")"
   ]
  },
  {
   "cell_type": "markdown",
   "metadata": {},
   "source": [
    "##### 8. Find the largest of three numbers"
   ]
  },
  {
   "cell_type": "code",
   "execution_count": null,
   "metadata": {},
   "outputs": [],
   "source": [
    "a, b, c = int(input()), int(input()), int(input())\n",
    "if a > b and a > c:\n",
    "    print(f\"The largest number is {a}.\")\n",
    "elif b > c:\n",
    "    print(f\"The largest number is {b}.\")\n",
    "else:\n",
    "    print(f\"The largest number is {c}.\")"
   ]
  },
  {
   "cell_type": "markdown",
   "metadata": {},
   "source": [
    "##### 9. Check if a string is a palindrome"
   ]
  },
  {
   "cell_type": "code",
   "execution_count": null,
   "metadata": {},
   "outputs": [],
   "source": [
    "string = input(\"Enter a string: \").lower()\n",
    "if string == string[::-1]:\n",
    "    print(f\"{string} is a palindrome.\")\n",
    "else:\n",
    "    print(f\"{string} is not a palindrome.\")"
   ]
  },
  {
   "cell_type": "markdown",
   "metadata": {},
   "source": [
    "##### 10. Calculate grade based on score"
   ]
  },
  {
   "cell_type": "code",
   "execution_count": null,
   "metadata": {},
   "outputs": [],
   "source": [
    "score = int(input(\"Enter your score: \"))\n",
    "if score >= 90:\n",
    "    print(\"Grade: A\")\n",
    "elif score >= 80:\n",
    "    print(\"Grade: B\")\n",
    "elif score >= 70:\n",
    "    print(\"Grade: C\")\n",
    "elif score >= 60:\n",
    "    print(\"Grade: D\")\n",
    "else:\n",
    "    print(\"Grade: F\")"
   ]
  },
  {
   "cell_type": "markdown",
   "metadata": {},
   "source": [
    "## Nested If-Else Statements"
   ]
  },
  {
   "cell_type": "markdown",
   "metadata": {},
   "source": [
    "##### 11. Find the largest among three numbers using nested if-else"
   ]
  },
  {
   "cell_type": "code",
   "execution_count": null,
   "metadata": {},
   "outputs": [],
   "source": [
    "a, b, c = int(input()), int(input()), int(input())\n",
    "if a > b:\n",
    "    if a > c:\n",
    "        print(f\"Largest number is {a}\")\n",
    "    else:\n",
    "        print(f\"Largest number is {c}\")\n",
    "else:\n",
    "    if b > c:\n",
    "        print(f\"Largest number is {b}\")\n",
    "    else:\n",
    "        print(f\"Largest number is {c}\")"
   ]
  },
  {
   "cell_type": "markdown",
   "metadata": {},
   "source": [
    "##### 12. Determine if a triangle is equilateral, isosceles, or scalene"
   ]
  },
  {
   "cell_type": "code",
   "execution_count": null,
   "metadata": {},
   "outputs": [],
   "source": [
    "a, b, c = int(input()), int(input()), int(input())\n",
    "if a == b == c:\n",
    "    print(\"Equilateral Triangle\")\n",
    "elif a == b or b == c or a == c:\n",
    "    print(\"Isosceles Triangle\")\n",
    "else:\n",
    "    print(\"Scalene Triangle\")"
   ]
  },
  {
   "cell_type": "markdown",
   "metadata": {},
   "source": [
    "##### 13. Check if a year is a leap year and a century year"
   ]
  },
  {
   "cell_type": "code",
   "execution_count": null,
   "metadata": {},
   "outputs": [],
   "source": [
    "year = int(input(\"Enter a year: \"))\n",
    "if year % 100 == 0:\n",
    "    if year % 400 == 0:\n",
    "        print(f\"{year} is a leap year and a century year.\")\n",
    "    else:\n",
    "        print(f\"{year} is a century year but not a leap year.\")\n",
    "elif year % 4 == 0:\n",
    "    print(f\"{year} is a leap year.\")\n",
    "else:\n",
    "    print(f\"{year} is not a leap year.\")"
   ]
  },
  {
   "cell_type": "markdown",
   "metadata": {},
   "source": [
    "##### 14. Determine if a number is positive, negative, or zero"
   ]
  },
  {
   "cell_type": "code",
   "execution_count": null,
   "metadata": {},
   "outputs": [],
   "source": [
    "num = int(input(\"Enter a number: \"))\n",
    "if num > 0:\n",
    "    print(f\"{num} is positive.\")\n",
    "elif num < 0:\n",
    "    print(f\"{num} is negative.\")\n",
    "else:\n",
    "    print(f\"{num} is zero.\")"
   ]
  },
  {
   "cell_type": "markdown",
   "metadata": {},
   "source": [
    "##### 15. Check if a person is a teenager"
   ]
  },
  {
   "cell_type": "code",
   "execution_count": null,
   "metadata": {},
   "outputs": [],
   "source": [
    "age = int(input(\"Enter your age: \"))\n",
    "if 13 <= age <= 19:\n",
    "    print(\"You are a teenager.\")\n",
    "else:\n",
    "    print(\"You are not a teenager.\")"
   ]
  },
  {
   "cell_type": "markdown",
   "metadata": {},
   "source": [
    "##### 16. Determine the type of angle"
   ]
  },
  {
   "cell_type": "code",
   "execution_count": null,
   "metadata": {},
   "outputs": [],
   "source": [
    "angle = int(input(\"Enter the angle: \"))\n",
    "if angle == 90:\n",
    "    print(\"Right angle\")\n",
    "elif angle < 90:\n",
    "    print(\"Acute angle\")\n",
    "else:\n",
    "    print(\"Obtuse angle\")"
   ]
  },
  {
   "cell_type": "markdown",
   "metadata": {},
   "source": [
    "##### 17. Calculate the roots of a quadratic equation"
   ]
  },
  {
   "cell_type": "code",
   "execution_count": null,
   "metadata": {},
   "outputs": [],
   "source": [
    "import math\n",
    "a, b, c = map(int, input(\"Enter coefficients a, b, c: \").split())\n",
    "discriminant = b2 - 4*a*c\n",
    "\n",
    "if discriminant > 0:\n",
    "    root1 = (-b + math.sqrt(discriminant)) / (2*a)\n",
    "    root2 = (-b - math.sqrt(discriminant)) / (2*a)\n",
    "    print(f\"Roots are real and distinct: {root1}, {root2}\")\n",
    "elif discriminant == 0:\n",
    "    root = -b / (2*a)\n",
    "    print(f\"Roots are real and equal: {root}\")\n",
    "else:\n",
    "    print(\"No real roots.\")"
   ]
  },
  {
   "cell_type": "markdown",
   "metadata": {},
   "source": [
    "##### 18. Determine the day of the week based on a number"
   ]
  },
  {
   "cell_type": "code",
   "execution_count": null,
   "metadata": {},
   "outputs": [],
   "source": [
    "day = int(input(\"Enter a number (1 for Monday, 7 for Sunday): \"))\n",
    "if day == 1:\n",
    "    print(\"Monday\")\n",
    "elif day == 2:\n",
    "    print(\"Tuesday\")\n",
    "elif day == 3:\n",
    "    print(\"Wednesday\")\n",
    "elif day == 4:\n",
    "    print(\"Thursday\")\n",
    "elif day == 5:\n",
    "    print(\"Friday\")\n",
    "elif day == 6:\n",
    "    print(\"Saturday\")\n",
    "elif day == 7:\n",
    "    print(\"Sunday\")\n",
    "else:\n",
    "    print(\"Invalid day number\")"
   ]
  },
  {
   "cell_type": "markdown",
   "metadata": {},
   "source": [
    "##### 19. Check if a year is a leap year and evenly divisible by 400"
   ]
  },
  {
   "cell_type": "code",
   "execution_count": null,
   "metadata": {},
   "outputs": [],
   "source": [
    "year = int(input(\"Enter a year: \"))\n",
    "if year % 400 == 0:\n",
    "    print(f\"{year} is a leap year and divisible by 400.\")\n",
    "elif year % 4 == 0 and year % 100 != 0:\n",
    "    print(f\"{year} is a leap year.\")\n",
    "else:\n",
    "    print(f\"{year} is not a leap year.\")"
   ]
  },
  {
   "cell_type": "markdown",
   "metadata": {},
   "source": [
    "##### 20. Check if a number is prime using nested if-else"
   ]
  },
  {
   "cell_type": "code",
   "execution_count": null,
   "metadata": {},
   "outputs": [],
   "source": [
    "num = int(input(\"Enter a number: \"))\n",
    "if num > 1:\n",
    "    for i in range(2, num):\n",
    "        if num % i == 0:\n",
    "            print(f\"{num} is not prime.\")\n",
    "            break\n",
    "    else:\n",
    "        print(f\"{num} is prime.\")\n",
    "else:\n",
    "    print(f\"{num} is not prime.\")"
   ]
  },
  {
   "cell_type": "markdown",
   "metadata": {},
   "source": [
    "## Elif Statements"
   ]
  },
  {
   "cell_type": "markdown",
   "metadata": {},
   "source": [
    "##### 21. Assign grades based on score ranges"
   ]
  },
  {
   "cell_type": "code",
   "execution_count": null,
   "metadata": {},
   "outputs": [],
   "source": [
    "score = int(input(\"Enter your score: \"))\n",
    "if score >= 90:\n",
    "    print(\"A\")\n",
    "elif score >= 80:\n",
    "    print(\"B\")\n",
    "elif score >= 70:\n",
    "    print(\"C\")\n",
    "elif score >= 60:\n",
    "    print(\"D\")\n",
    "else:\n",
    "    print(\"F\")"
   ]
  },
  {
   "cell_type": "markdown",
   "metadata": {},
   "source": [
    "##### 22. Determine the type of triangle based on angles"
   ]
  },
  {
   "cell_type": "code",
   "execution_count": null,
   "metadata": {},
   "outputs": [],
   "source": [
    "a, b, c = int(input()), int(input()), int(input())\n",
    "if a + b + c == 180:\n",
    "    if a == 90 or b == 90 or c == 90:\n",
    "        print(\"Right triangle\")\n",
    "    elif a < 90 and b < 90 and c < 90:\n",
    "        print(\"Acute triangle\")\n",
    "    else:\n",
    "        print(\"Obtuse triangle\")\n",
    "else:\n",
    "    print(\"Not a valid triangle\")"
   ]
  },
  {
   "cell_type": "markdown",
   "metadata": {},
   "source": [
    "##### 23. Categorize BMI"
   ]
  },
  {
   "cell_type": "code",
   "execution_count": null,
   "metadata": {},
   "outputs": [],
   "source": [
    "bmi = float(input(\"Enter your BMI: \"))\n",
    "if bmi < 18.5:\n",
    "    print(\"Underweight\")\n",
    "elif 18.5 <= bmi < 24.9:\n",
    "    print(\"Normal weight\")\n",
    "elif 25 <= bmi < 29.9:\n",
    "    print(\"Overweight\")\n",
    "else:\n",
    "    print(\"Obese\")"
   ]
  },
  {
   "cell_type": "markdown",
   "metadata": {},
   "source": [
    "##### 24. Check if a number is positive, negative, or zero using elif"
   ]
  },
  {
   "cell_type": "code",
   "execution_count": null,
   "metadata": {},
   "outputs": [],
   "source": [
    "num = int(input(\"Enter a number: \"))\n",
    "if num > 0:\n",
    "    print(\"Positive\")\n",
    "elif num < 0:\n",
    "    print(\"Negative\")\n",
    "else:\n",
    "    print(\"Zero\")"
   ]
  },
  {
   "cell_type": "markdown",
   "metadata": {},
   "source": [
    "##### 25. Determine the type of character (uppercase, lowercase, or special)"
   ]
  },
  {
   "cell_type": "code",
   "execution_count": null,
   "metadata": {},
   "outputs": [],
   "source": [
    "char = input(\"Enter a character: \")\n",
    "if char.isupper():\n",
    "    print(f\"{char} is uppercase.\")\n",
    "elif char.islower():\n",
    "    print(f\"{char} is lowercase.\")\n",
    "else:\n",
    "    print(f\"{char} is a special character.\")"
   ]
  },
  {
   "cell_type": "markdown",
   "metadata": {},
   "source": [
    "##### 26. Calculate the discounted price"
   ]
  },
  {
   "cell_type": "code",
   "execution_count": null,
   "metadata": {},
   "outputs": [],
   "source": [
    "amount = float(input(\"Enter the purchase amount: \"))\n",
    "if amount >= 500:\n",
    "    discount = 0.2\n",
    "elif amount >= 200:\n",
    "    discount = 0.1\n",
    "else:\n",
    "    discount = 0.05\n",
    "\n",
    "discounted_price = amount - (amount * discount)\n",
    "print(f\"Discounted price: {discounted_price}\")"
   ]
  },
  {
   "cell_type": "markdown",
   "metadata": {},
   "source": [
    "##### 27. Calculate the electricity bill based on consumption slabs"
   ]
  },
  {
   "cell_type": "code",
   "execution_count": null,
   "metadata": {},
   "outputs": [],
   "source": [
    "units = int(input(\"Enter the number of units consumed: \"))\n",
    "if units <= 100:\n",
    "    rate = 1.5\n",
    "elif units <= 300:\n",
    "    rate = 2.5\n",
    "else:\n",
    "    rate = 3.5\n",
    "\n",
    "bill = units * rate\n",
    "print(f\"Electricity bill: {bill}\")"
   ]
  },
  {
   "cell_type": "markdown",
   "metadata": {},
   "source": [
    "##### 28. Determine the type of quadrilateral"
   ]
  },
  {
   "cell_type": "code",
   "execution_count": null,
   "metadata": {},
   "outputs": [],
   "source": [
    "sides = list(map(int, input(\"Enter the sides: \").split()))\n",
    "if len(set(sides)) == 1:\n",
    "    print(\"Square\")\n",
    "elif len(set(sides)) == 2:\n",
    "    print(\"Rectangle\")\n",
    "else:\n",
    "    print(\"Other Quadrilateral\")"
   ]
  },
  {
   "cell_type": "markdown",
   "metadata": {},
   "source": [
    "##### 29. Determine the season based on month"
   ]
  },
  {
   "cell_type": "code",
   "execution_count": null,
   "metadata": {},
   "outputs": [],
   "source": [
    "month = input(\"Enter the month: \").lower()\n",
    "if month in ['december', 'january', 'february']:\n",
    "    print(\"Winter\")\n",
    "elif month in ['march', 'april', 'may']:\n",
    "    print(\"Spring\")\n",
    "elif month in ['june', 'july', 'august']:\n",
    "    print(\"Summer\")\n",
    "else:\n",
    "    print(\"Fall\")"
   ]
  },
  {
   "cell_type": "markdown",
   "metadata": {},
   "source": [
    "##### 30. Determine the type of year (leap or common) and month (30 or 31 days)"
   ]
  },
  {
   "cell_type": "code",
   "execution_count": null,
   "metadata": {},
   "outputs": [],
   "source": [
    "year = int(input(\"Enter a year: \"))\n",
    "month = input(\"Enter a month: \").lower()\n",
    "\n",
    "if month == 'february':\n",
    "    if year % 4 == 0 and (year % 100 != 0 or year % 400 == 0):\n",
    "        print(f\"February {year} has 29 days (leap year).\")\n",
    "    else:\n",
    "        print(f\"February {year} has 28 days.\")\n",
    "elif month in ['april', 'june', 'september', 'november']:\n",
    "    print(f\"{month.capitalize()} has 30 days.\")\n",
    "else:\n",
    "    print(f\"{month.capitalize()} has 31 days.\")"
   ]
  },
  {
   "cell_type": "markdown",
   "metadata": {},
   "source": [
    "## Program Questions"
   ]
  },
  {
   "cell_type": "markdown",
   "metadata": {},
   "source": [
    "##### 1. Check if a number is positive, negative, or zero"
   ]
  },
  {
   "cell_type": "code",
   "execution_count": 4,
   "metadata": {},
   "outputs": [],
   "source": [
    "def check_number(num):\n",
    "    \n",
    "    if num > 0:\n",
    "        output = f\"{num} is positive.\"\n",
    "    elif num < 0:\n",
    "        output = f\"{num} is negative.\"\n",
    "    else:\n",
    "        output = f\"{num} is zero.\"\n",
    "\n",
    "    return output"
   ]
  },
  {
   "cell_type": "code",
   "execution_count": 7,
   "metadata": {},
   "outputs": [
    {
     "data": {
      "text/plain": [
       "'0 is zero.'"
      ]
     },
     "execution_count": 7,
     "metadata": {},
     "output_type": "execute_result"
    }
   ],
   "source": [
    "check_number(0)"
   ]
  },
  {
   "cell_type": "markdown",
   "metadata": {},
   "source": [
    "##### 2. Determine if a person is eligible to vote"
   ]
  },
  {
   "cell_type": "code",
   "execution_count": 9,
   "metadata": {},
   "outputs": [],
   "source": [
    "def vote_eligibilty(age: int):\n",
    "\n",
    "    if age >= 18:\n",
    "        result = \"You are eligible to vote.\"\n",
    "    else:\n",
    "        result = \"You are not eligible to vote.\"\n",
    "\n",
    "    return result"
   ]
  },
  {
   "cell_type": "markdown",
   "metadata": {},
   "source": [
    "##### 3. Find the maximum of two numbers"
   ]
  },
  {
   "cell_type": "code",
   "execution_count": 10,
   "metadata": {},
   "outputs": [],
   "source": [
    "def max_num(num1, num2):\n",
    "    \n",
    "    if num1 > num2:\n",
    "        return f\"The maximum is {num1}.\"\n",
    "    else:\n",
    "        return f\"The maximum is {num2}.\""
   ]
  },
  {
   "cell_type": "markdown",
   "metadata": {},
   "source": [
    "##### 4. Calculate the grade based on exam score"
   ]
  },
  {
   "cell_type": "code",
   "execution_count": 59,
   "metadata": {},
   "outputs": [],
   "source": [
    "grades = {90 : \"A\", 80 : \"B\", 70 : \"C\", 60 : \"D\"}\n",
    "\n",
    "def exam_grader(score : int, grading_list : dict = grades):\n",
    "\n",
    "    limits = list(grading_list.keys())\n",
    "    limits.sort(reverse = True)\n",
    "\n",
    "    for i in limits:\n",
    "        if score >= int(i):\n",
    "            return f\"The Grade the student recieves for {score} marks is: {grading_list[i]}\""
   ]
  },
  {
   "cell_type": "code",
   "execution_count": 60,
   "metadata": {},
   "outputs": [
    {
     "data": {
      "text/plain": [
       "'The Grade the student recieves for 75 marks is: C'"
      ]
     },
     "execution_count": 60,
     "metadata": {},
     "output_type": "execute_result"
    }
   ],
   "source": [
    "exam_grader(score=75)"
   ]
  },
  {
   "cell_type": "markdown",
   "metadata": {},
   "source": [
    "##### 5. Check if a year is a leap year"
   ]
  },
  {
   "cell_type": "code",
   "execution_count": null,
   "metadata": {},
   "outputs": [],
   "source": [
    "def leap_year(year):\n",
    "    if year % 4 == 0 and (year % 100 != 0 or year % 400 == 0):\n",
    "        return f\"{year} is a leap year.\"\n",
    "    else:\n",
    "        return f\"{year} is not a leap year.\""
   ]
  },
  {
   "cell_type": "markdown",
   "metadata": {},
   "source": [
    "##### 6. Classify a triangle based on its sides"
   ]
  },
  {
   "cell_type": "code",
   "execution_count": null,
   "metadata": {},
   "outputs": [],
   "source": [
    "def triangle_type(a, b, c):\n",
    "    if a == b == c:\n",
    "        return (\"Equilateral Triangle\")\n",
    "    elif a == b or b == c or a == c:\n",
    "        return \"Isosceles Triangle\"\n",
    "    else:\n",
    "        return \"Scalene Triangle\""
   ]
  },
  {
   "cell_type": "markdown",
   "metadata": {},
   "source": [
    "##### 7. Determine the largest of three numbers"
   ]
  },
  {
   "cell_type": "code",
   "execution_count": null,
   "metadata": {},
   "outputs": [],
   "source": [
    "def largest_of_three(a, b, c):\n",
    "    if a > b and a > c:\n",
    "        return f\"The largest number is {a}.\"\n",
    "    elif b > c:\n",
    "        return f\"The largest number is {b}.\"\n",
    "    else:\n",
    "        return f\"The largest number is {c}.\""
   ]
  },
  {
   "cell_type": "markdown",
   "metadata": {},
   "source": [
    "##### 8. Check if a character is a vowel or consonant"
   ]
  },
  {
   "cell_type": "code",
   "execution_count": 61,
   "metadata": {},
   "outputs": [],
   "source": [
    "all_vowels = 'aeiou'\n",
    "\n",
    "def charact(char: str, vowels = all_vowels):\n",
    "    if char.lower() in vowels:\n",
    "        return f\"{char} is a vowel.\"\n",
    "    else:\n",
    "        return f\"{char} is a consonant.\""
   ]
  },
  {
   "cell_type": "markdown",
   "metadata": {},
   "source": [
    "##### 9. Calculate total cost of a shopping cart based on discounts"
   ]
  },
  {
   "cell_type": "code",
   "execution_count": null,
   "metadata": {},
   "outputs": [],
   "source": [
    "##9. Create a program to calculate the total cost of a shopping cart based on discounts. \n",
    "\n",
    "total_cost = float(input(\"Enter the total cost: \"))\n",
    "\n",
    "bill_to_discount = {\"Grand Bill\" : {\"amount\" : 5000, \"discount\": 0.2},\n",
    "                    \"Good Bill\" : {\"amount\" : 3000,  \"discount\" : 0.1},\n",
    "                    \"Decent Bill\" : {\"amount\" :2000, \"discount\" : 0.05}}\n",
    "\n",
    "def bill_calculator(total_cost: int):\n",
    "    \n",
    "    applied_discount = 0\n",
    "\n",
    "    for bill, details in bill_to_discount.items:\n",
    "        if total_cost >= details[\"amount\"]:\n",
    "            applied_discount = details[\"discount\"]\n",
    "        \n",
    "    final_price = total_cost - (total_cost * applied_discount)\n",
    "\n",
    "    return f\"Total cost after discount: {final_price}\""
   ]
  },
  {
   "cell_type": "markdown",
   "metadata": {},
   "source": [
    "##### 10. Check if a number is even or odd"
   ]
  },
  {
   "cell_type": "code",
   "execution_count": 63,
   "metadata": {},
   "outputs": [],
   "source": [
    "def even_odd(num: int):\n",
    "    if num % 2 == 0:\n",
    "        print(f\"{num} is even.\")\n",
    "    else:\n",
    "        print(f\"{num} is odd.\")"
   ]
  },
  {
   "cell_type": "markdown",
   "metadata": {},
   "source": [
    "##### 11. Calculate the roots of a quadratic equation"
   ]
  },
  {
   "cell_type": "code",
   "execution_count": 68,
   "metadata": {},
   "outputs": [],
   "source": [
    "import math\n",
    "\n",
    "\n",
    "def quad_roots(a, b, c):\n",
    "\n",
    "    discriminant = b**2 - 4*a*c\n",
    "    \n",
    "\n",
    "    if discriminant > 0:\n",
    "        root1 = (-b + math.sqrt(discriminant)) / (2*a)\n",
    "        root2 = (-b - math.sqrt(discriminant)) / (2*a)\n",
    "        return (f\"Roots are real and distinct: {root1}, {root2}\")\n",
    "    elif discriminant == 0:\n",
    "        root = -b / (2*a)\n",
    "        return (f\"Roots are real and equal: {root}\")\n",
    "    else:\n",
    "        return \"No real roots.\""
   ]
  },
  {
   "cell_type": "markdown",
   "metadata": {},
   "source": [
    "##### 12. Determine the day of the week"
   ]
  },
  {
   "cell_type": "code",
   "execution_count": 2,
   "metadata": {},
   "outputs": [
    {
     "name": "stdout",
     "output_type": "stream",
     "text": [
      "Wednesday\n"
     ]
    }
   ],
   "source": [
    "def day_of_week(day_number):\n",
    "    days = {1: \"Monday\", 2: \"Tuesday\", 3: \"Wednesday\", 4: \"Thursday\", 5: \"Friday\", 6: \"Saturday\", 7: \"Sunday\"}\n",
    "    \n",
    "    if 1 <= day_number <= 7:\n",
    "        return f\"day of the week is {day[day_number]}\"\n",
    "    else:\n",
    "        print(days.get(day, \"Invalid day number\"))"
   ]
  },
  {
   "cell_type": "markdown",
   "metadata": {},
   "source": [
    "##### 13. Calculate the factorial using recursion"
   ]
  },
  {
   "cell_type": "code",
   "execution_count": null,
   "metadata": {},
   "outputs": [],
   "source": [
    "def factorial(n):\n",
    "    if n == 0 or n == 1:\n",
    "        return 1\n",
    "    else:\n",
    "        return n * factorial(n - 1)\n",
    "\n",
    "num = int(input(\"Enter a number: \"))\n",
    "print(f\"Factorial of {num} is {factorial(num)}\")"
   ]
  },
  {
   "cell_type": "markdown",
   "metadata": {},
   "source": [
    "##### 14. Find the largest among three numbers without using `max()`"
   ]
  },
  {
   "cell_type": "code",
   "execution_count": null,
   "metadata": {},
   "outputs": [],
   "source": [
    "a, b, c = int(input()), int(input()), int(input())\n",
    "if a >= b and a >= c:\n",
    "    print(f\"Largest number is {a}\")\n",
    "elif b >= c:\n",
    "    print(f\"Largest number is {b}\")\n",
    "else:\n",
    "    print(f\"Largest number is {c}\")"
   ]
  },
  {
   "cell_type": "markdown",
   "metadata": {},
   "source": [
    "##### 15. Basic ATM transaction menu"
   ]
  },
  {
   "cell_type": "code",
   "execution_count": null,
   "metadata": {},
   "outputs": [],
   "source": [
    "balance = 1000\n",
    "\n",
    "\n",
    "\n",
    "choice \n",
    "if choice == 1:\n",
    "    print(f\"Your balance is: {balance}\")\n",
    "elif choice == 2:\n",
    "    amount = int(input(\"Enter amount to deposit: \"))\n",
    "    balance += amount\n",
    "    print(f\"Deposited {amount}. New balance is {balance}.\")\n",
    "elif choice == 3:\n",
    "    amount = int(input(\"Enter amount to withdraw: \"))\n",
    "    if amount <= balance:\n",
    "        balance -= amount\n",
    "        print(f\"Withdrawn {amount}. Remaining balance is {balance}.\")\n",
    "    else:\n",
    "        print(\"Insufficient balance.\")\n",
    "else:\n",
    "    print(\"Invalid choice.\")"
   ]
  },
  {
   "cell_type": "code",
   "execution_count": 107,
   "metadata": {},
   "outputs": [],
   "source": [
    "balance = 1000\n",
    "\n",
    "def deposit(amount):\n",
    "    global balance\n",
    "\n",
    "    if amount <= 0:\n",
    "        return \"Please Enter a Valid Number\"\n",
    "    balance += amount\n",
    "    \n",
    "    return balance \n",
    "    \n",
    "def check_balance():\n",
    "    return balance\n",
    "\n",
    "def withdraw(amount):\n",
    "    global balance\n",
    "    if amount > balance:\n",
    "        return f\"Insufficient funds in your account\"\n",
    "    elif amount <= 0:\n",
    "        return \"Please Enter a Valid Number\"\n",
    "    else:\n",
    "        balance -= amount\n",
    "    \n",
    "    return balance\n",
    "\n",
    "\n",
    "\n",
    "def atm():\n",
    "    \n",
    "    print(\"ATM Menu\")\n",
    "    print(\"1. Check balance\")\n",
    "    print(\"2. Deposit money\")\n",
    "    print(\"3. Withdraw money\")\n",
    "    print(\"4. Exit\")\n",
    "    \n",
    "    option = int(input(\"Enter your choice: \"))\n",
    "\n",
    "    if option == 1:\n",
    "        return f\"Your balance is: {balance}\"\n",
    "    \n",
    "    elif option == 2:\n",
    "        amount = int(input(\"Enter the deposit amount number: \"))\n",
    "        result = deposit(amount)\n",
    "        print(result if isinstance(result, str) else f\"Amount {amount} Deposited Successfully\")\n",
    "    \n",
    "    elif option == 3:\n",
    "        amount = int(input(\"Enter the withdrawal amount number: \"))\n",
    "        print(f\"Entered Amount {amount} Withdrawal in process\")\n",
    "        result = withdraw(amount)\n",
    "        print(result if isinstance(result, str) else f\"Amount {amount} is Withdrawn Successfully\")\n",
    "\n",
    "    elif option == 4:\n",
    "        print(\"Thank you\")\n",
    "\n",
    "    else:\n",
    "        return \"Invalid Input Please Enter in: 1 - Check balance, 2 - Deposit money, 3 - Withdraw money, 4 - Exit\"\n",
    "\n",
    "\n",
    "    return f\"The current balance in your account is {balance} INR\"  \n"
   ]
  },
  {
   "cell_type": "code",
   "execution_count": 108,
   "metadata": {},
   "outputs": [
    {
     "name": "stdout",
     "output_type": "stream",
     "text": [
      "ATM Menu\n",
      "1. Check balance\n",
      "2. Deposit money\n",
      "3. Withdraw money\n",
      "4. Exit\n",
      "Amount 100 Deposited Successfully\n"
     ]
    },
    {
     "data": {
      "text/plain": [
       "'The current balance in your account is 1100 INR'"
      ]
     },
     "execution_count": 108,
     "metadata": {},
     "output_type": "execute_result"
    }
   ],
   "source": [
    "atm()"
   ]
  },
  {
   "cell_type": "markdown",
   "metadata": {},
   "source": [
    "##### 16. Check if a string is a palindrome"
   ]
  },
  {
   "cell_type": "code",
   "execution_count": null,
   "metadata": {},
   "outputs": [],
   "source": [
    "def is_palindrome(text):\n",
    "    if text == text[::-1]:\n",
    "        print(f\"{text} is a palindrome.\")\n",
    "    else:\n",
    "        print(f\"{text} is not a palindrome.\")"
   ]
  },
  {
   "cell_type": "markdown",
   "metadata": {},
   "source": [
    "##### 17. Calculate the average excluding the smallest and largest values"
   ]
  },
  {
   "cell_type": "code",
   "execution_count": null,
   "metadata": {},
   "outputs": [],
   "source": [
    "def normal_average(numbers: list):\n",
    "    numbers.remove(min(numbers))\n",
    "    numbers.remove(max(numbers))\n",
    "    average = sum(numbers) / len(numbers)\n",
    "    print(f\"Average excluding min and max: {average}\")"
   ]
  },
  {
   "cell_type": "markdown",
   "metadata": {},
   "source": [
    "##### 18. Convert temperature from Celsius to Fahrenheit"
   ]
  },
  {
   "cell_type": "code",
   "execution_count": null,
   "metadata": {},
   "outputs": [],
   "source": [
    "def celcius_to_fahrenheit(celsius: float):\n",
    "    fahrenheit = (celsius * 9/5) + 32\n",
    "    print(f\"{celsius}°C is {fahrenheit}°F\")"
   ]
  },
  {
   "cell_type": "markdown",
   "metadata": {},
   "source": [
    "##### 19. Basic calculator"
   ]
  },
  {
   "cell_type": "code",
   "execution_count": 26,
   "metadata": {},
   "outputs": [],
   "source": [
    "def add(x, y):\n",
    "    return x + y\n",
    "\n",
    "def substract(x, y):\n",
    "    return x - y\n",
    "\n",
    "def multiply(x, y):\n",
    "    return x * y\n",
    "\n",
    "def divide(x, y):\n",
    "    if y == 0:\n",
    "        print(\"Error: Zero division error\")\n",
    "    return x / y\n",
    "\n",
    "\n",
    "\n",
    "def calculator():\n",
    "    print(\"Mini Calculator : Please select operation \\n\"\n",
    "        \"1. Add\\n\" \n",
    "        \"2. Subtract\\n\"\n",
    "        \"3. Multiply\\n\"\n",
    "        \"4. Divide\\n\")\n",
    "    \n",
    "    operation = int(input(\"Enter number among: 1, 2, 3, 4 to choose the operation\"))\n",
    "\n",
    "    number1 = int(input(\"Enter first number\"))\n",
    "    number2 = int(input(\"Enter second number\"))\n",
    "\n",
    "    if operation == 1:\n",
    "        return f\"The sum of {number1} and {number2} is {add(number1, number2)}\"\n",
    "    elif operation == 2:\n",
    "        return f\"The difference of {number1} and {number2} is {substract(number1, number2)}\"\n",
    "    elif operation == 3:\n",
    "        return f\"The product of {number1} and {number2} is {multiply(number1, number2)}\"\n",
    "    elif operation == 4:\n",
    "        return f\"The remainder of {number1} from {number2} is {divide(number1, number2)}\"\n",
    "    else:\n",
    "        print(\"Error: Entered invalid input\")"
   ]
  },
  {
   "cell_type": "markdown",
   "metadata": {},
   "source": [
    "##### 20. Roots of a cubic equation using the Cardano formula"
   ]
  },
  {
   "cell_type": "code",
   "execution_count": null,
   "metadata": {},
   "outputs": [],
   "source": []
  },
  {
   "cell_type": "markdown",
   "metadata": {},
   "source": [
    "##### 21. Create a program that calculates the income tax based on the user's income and tax brackets. "
   ]
  },
  {
   "cell_type": "code",
   "execution_count": null,
   "metadata": {},
   "outputs": [],
   "source": [
    "def get_tax_slabs():\n",
    "    return [\n",
    "        {\"limit\" : 250000, \"tax_rate\" : 0.0},\n",
    "        {\"limit\" : 500000, \"tax_rate\" : 0.05},\n",
    "        {\"limit\" : 1000000, \"tax_rate\" : 0.10},\n",
    "        {\"limit\" : 1500000, \"tax_rate\" : 0.15},\n",
    "        {\"limit\" : 2500000, \"tax_rate\" : 0.20},\n",
    "        {\"limit\" : 3500000, \"tax_rate\" : 0.25},\n",
    "        {\"limit\" : float('inf'), \"tax_rate\" : 0.30},\n",
    "    ]\n",
    "\n",
    "def tax_calculator(income, tax_slabs):\n",
    "    tax_amount = 0\n",
    "    previous_slab_limit = 0 \n",
    "    \n",
    "    for slab in tax_slabs:\n",
    "        if income > slab[\"limit\"]:\n",
    "            tax += (slab[\"limit\"] - previous_slab_limit) * slab[\"tax_rate\"]\n",
    "            previous_slab_limit = slab[\"limit\"]\n",
    "\n",
    "        else:\n",
    "            tax_amount += (income - previous_slab_limit) * slab[\"tax_rate\"]\n",
    "\n",
    "    return tax_amount\n",
    "\n",
    "\n",
    "def tax_main():\n",
    "    annual_income = int(input(\"Enter ypur annual income\"))\n",
    "\n",
    "    slab_rates = get_tax_slabs()\n",
    "    tax = tax_calculator(annual_income, slab_rates)\n",
    "\n",
    "    return tax"
   ]
  },
  {
   "cell_type": "markdown",
   "metadata": {},
   "source": [
    "##### 22. Write a program that simulates a rock-paper-scissors game against the computer."
   ]
  },
  {
   "cell_type": "code",
   "execution_count": null,
   "metadata": {},
   "outputs": [],
   "source": [
    "import random\n",
    "\n",
    "def computer_turn():\n",
    "    options = [\"rock\", \"paper\", \"scissors\"]\n",
    "    return random.choice(options)\n",
    "\n",
    "def winner_evaluation(player_choice, computer_choice):\n",
    "    if player_choice == computer_choice:\n",
    "        return \"It's a tie\"\n",
    "\n",
    "    if ((player_choice == \"rock\" and computer_choice == \"scissors\") or \n",
    "    (player_choice == \"scissors\" and computer_choice == \"paper\") or\n",
    "    (player_choice == \"paper\" and computer_choice == \"rock\")):\n",
    "\n",
    "        print(\"User wins\")\n",
    "    \n",
    "    else:\n",
    "        print(\"Computer wins\")\n",
    "\n",
    "def rps_main():\n",
    "    player_turn = str(input(\"Enter your choice: 'rock', 'paper' or 'scissors' \")).lower()\n",
    "    \n",
    "    if player_turn not in ['rock', 'paper', 'scissor']:\n",
    "        return \"Given input is invalid please enter correct option among 'rock', 'paper' and 'scissors'\"\n",
    "    \n",
    "    computer_turn = computer_turn()\n",
    "    result = winner_evaluation(player_turn, computer_turn)\n",
    "\n",
    "    return result"
   ]
  },
  {
   "cell_type": "markdown",
   "metadata": {},
   "source": [
    "##### 23. Develop a program that generates a random password based on user preferences (length, complexity). "
   ]
  },
  {
   "cell_type": "code",
   "execution_count": null,
   "metadata": {},
   "outputs": [],
   "source": [
    "import random\n",
    "import string\n",
    "\n",
    "def generate_password(length, include_uppercase=True, include_digits=True, include_special_chars=True):\n",
    "    # Base character set includes lowercase letters\n",
    "    char_set = string.ascii_lowercase\n",
    "    \n",
    "    # Include additional character sets based on user preferences\n",
    "    if include_uppercase:\n",
    "        char_set += string.ascii_uppercase\n",
    "    if include_digits:\n",
    "        char_set += string.digits\n",
    "    if include_special_chars:\n",
    "        char_set += string.punctuation\n",
    "    \n",
    "    # Ensure the password length is valid\n",
    "    if length < 1:\n",
    "        return \"Password length must be at least 1.\"\n",
    "    \n",
    "    # Generate the password\n",
    "    password = ''.join(random.choice(char_set) for _ in range(length))\n",
    "    \n",
    "    return password\n",
    "\n",
    "def password_main():\n",
    "    # Get user preferences for the password\n",
    "    length = int(input(\"Enter the desired password length: \"))\n",
    "    include_uppercase = input(\"Include uppercase letters? (yes/no): \").lower() == 'yes'\n",
    "    include_digits = input(\"Include digits? (yes/no): \").lower() == 'yes'\n",
    "    include_special_chars = input(\"Include special characters? (yes/no): \").lower() == 'yes'\n",
    "    \n",
    "    # Generate and display the password\n",
    "    password = generate_password(length, include_uppercase, include_digits, include_special_chars)\n",
    "    print(f\"Generated password: {password}\")"
   ]
  },
  {
   "cell_type": "markdown",
   "metadata": {},
   "source": [
    "##### 24. Create a program that implements a simple text-based adventure game with branching scenarios. "
   ]
  },
  {
   "cell_type": "code",
   "execution_count": null,
   "metadata": {},
   "outputs": [],
   "source": [
    "def start_game():\n",
    "    print(\"Welcome to the Adventure Game!\")\n",
    "    print(\"You find yourself in a dark forest. There are paths to the left and right.\")\n",
    "    choice1 = input(\"Do you go left or right? (left/right): \").lower()\n",
    "    \n",
    "    if choice1 == 'left':\n",
    "        print(\"\\nYou walk down a narrow path and come across a river.\")\n",
    "        choice2 = input(\"Do you swim across or walk along the river? (swim/walk): \").lower()\n",
    "        \n",
    "        if choice2 == 'swim':\n",
    "            print(\"\\nYou try to swim across but the current is too strong. You get swept away. Game Over.\")\n",
    "        elif choice2 == 'walk':\n",
    "            print(\"\\nYou walk along the river and find a bridge. You cross it and discover a small village.\")\n",
    "            choice3 = input(\"Do you talk to the villagers or explore the forest nearby? (talk/explore): \").lower()\n",
    "            \n",
    "            if choice3 == 'talk':\n",
    "                print(\"\\nThe villagers welcome you and offer food and shelter. You win!\")\n",
    "            elif choice3 == 'explore':\n",
    "                print(\"\\nWhile exploring the forest, you get lost and night falls. Game Over.\")\n",
    "            else:\n",
    "                print(\"\\nInvalid choice. Game Over.\")\n",
    "        else:\n",
    "            print(\"\\nInvalid choice. Game Over.\")\n",
    "    \n",
    "    elif choice1 == 'right':\n",
    "        print(\"\\nYou walk down a winding path and encounter a sleeping dragon.\")\n",
    "        choice2 = input(\"Do you try to sneak past or fight the dragon? (sneak/fight): \").lower()\n",
    "        \n",
    "        if choice2 == 'sneak':\n",
    "            print(\"\\nYou successfully sneak past the dragon and find a treasure chest filled with gold. You win!\")\n",
    "        elif choice2 == 'fight':\n",
    "            print(\"\\nThe dragon wakes up and breathes fire. You stand no chance. Game Over.\")\n",
    "        else:\n",
    "            print(\"\\nInvalid choice. Game Over.\")\n",
    "    \n",
    "    else:\n",
    "        print(\"\\nInvalid choice. Game Over.\")\n"
   ]
  },
  {
   "cell_type": "markdown",
   "metadata": {},
   "source": [
    "##### 25. Build a program that solves a linear equation for x, considering different cases. "
   ]
  },
  {
   "cell_type": "code",
   "execution_count": null,
   "metadata": {},
   "outputs": [],
   "source": [
    "def solve_linear_equation(a, b):\n",
    "    if a == 0:\n",
    "        if b == 0:\n",
    "            return \"Infinite solutions (the equation is true for all x).\"\n",
    "        else:\n",
    "            return \"No solution (the equation is inconsistent).\"\n",
    "    else:\n",
    "        x = -b / a\n",
    "        return f\"The solution is x = {x}\"\n",
    "\n",
    "def linear_equation_main():\n",
    "    print(\"Solving the linear equation ax + b = 0\")\n",
    "    a = float(input(\"Enter the coefficient a: \"))\n",
    "    b = float(input(\"Enter the constant b: \"))\n",
    "\n",
    "    result = solve_linear_equation(a, b)\n",
    "    print(result)"
   ]
  },
  {
   "cell_type": "markdown",
   "metadata": {},
   "source": [
    "##### 26. Write a program that simulates a basic quiz game with multiple-choice questions and scoring. "
   ]
  },
  {
   "cell_type": "code",
   "execution_count": null,
   "metadata": {},
   "outputs": [],
   "source": [
    "def run_quiz():\n",
    "    questions = [\n",
    "        {\n",
    "            \"question\": \"What is the capital of France?\",\n",
    "            \"options\": [\"1. Berlin\", \"2. Paris\", \"3. Madrid\", \"4. Rome\"],\n",
    "            \"answer\": 2\n",
    "        },\n",
    "        {\n",
    "            \"question\": \"Which planet is known as the Red Planet?\",\n",
    "            \"options\": [\"1. Earth\", \"2. Venus\", \"3. Mars\", \"4. Jupiter\"],\n",
    "            \"answer\": 3\n",
    "        },\n",
    "        {\n",
    "            \"question\": \"What is the largest mammal?\",\n",
    "            \"options\": [\"1. Elephant\", \"2. Blue whale\", \"3. Giraffe\", \"4. Hippopotamus\"],\n",
    "            \"answer\": 2\n",
    "        },\n",
    "        {\n",
    "            \"question\": \"What is the chemical symbol for water?\",\n",
    "            \"options\": [\"1. H2O\", \"2. CO2\", \"3. NaCl\", \"4. O2\"],\n",
    "            \"answer\": 1\n",
    "        },\n",
    "        {\n",
    "            \"question\": \"Who wrote 'Hamlet'?\",\n",
    "            \"options\": [\"1. Charles Dickens\", \"2. J.K. Rowling\", \"3. Mark Twain\", \"4. William Shakespeare\"],\n",
    "            \"answer\": 4\n",
    "        }\n",
    "    ]\n",
    "\n",
    "    score = 0\n",
    "\n",
    "    for i, question in enumerate(questions, start=1):\n",
    "        print(f\"\\nQuestion {i}: {question['question']}\")\n",
    "        for option in question['options']:\n",
    "            print(option)\n",
    "        user_answer = int(input(\"Enter the number of your answer: \"))\n",
    "\n",
    "        if user_answer == question['answer']:\n",
    "            print(\"Correct!\")\n",
    "            score += 1\n",
    "        else:\n",
    "            print(\"Wrong answer.\")\n",
    "\n",
    "    print(f\"\\nQuiz finished! Your final score is {score} out of {len(questions)}.\")\n",
    "    if score == len(questions):\n",
    "        print(\"Excellent job!\")\n",
    "    elif score > len(questions) // 2:\n",
    "        print(\"Good effort!\")\n",
    "    else:\n",
    "        print(\"Better luck next time!\")\n"
   ]
  },
  {
   "cell_type": "markdown",
   "metadata": {},
   "source": [
    "##### 27. Develop a program that determines whether a given year is a prime number or not. "
   ]
  },
  {
   "cell_type": "code",
   "execution_count": null,
   "metadata": {},
   "outputs": [],
   "source": [
    "def is_prime(year):\n",
    "    # Prime number conditions\n",
    "    if year <= 1:\n",
    "        return False\n",
    "    elif year <= 3:\n",
    "        return True\n",
    "    elif year % 2 == 0 or year % 3 == 0:\n",
    "        return False\n",
    "    \n",
    "    # Checking divisibility from 5 to the square root of the year\n",
    "    i = 5\n",
    "    while i * i <= year:\n",
    "        if year % i == 0 or year % (i + 2) == 0:\n",
    "            return False\n",
    "        i += 6\n",
    "    return True\n",
    "\n",
    "def prime_main():\n",
    "    year = int(input(\"Enter a year: \"))\n",
    "    \n",
    "    if is_prime(year):\n",
    "        print(f\"{year} is a prime number.\")\n",
    "    else:\n",
    "        print(f\"{year} is not a prime number.\")"
   ]
  },
  {
   "cell_type": "markdown",
   "metadata": {},
   "source": [
    "##### 28. Create a program that sorts three numbers in ascending order using conditional statements."
   ]
  },
  {
   "cell_type": "code",
   "execution_count": null,
   "metadata": {},
   "outputs": [],
   "source": [
    "def sort_three_numbers(a, b, c):\n",
    "    if a > b:\n",
    "        a, b = b, a  # Swap a and b if a is greater than b\n",
    "    if a > c:\n",
    "        a, c = c, a  # Swap a and c if a is greater than c\n",
    "    if b > c:\n",
    "        b, c = c, b  # Swap b and c if b is greater than c\n",
    "    \n",
    "    return a, b, c  # Now a <= b <= c\n",
    "\n",
    "def sort_main():\n",
    "    print(\"Enter three numbers to sort:\")\n",
    "    num1 = float(input(\"First number: \"))\n",
    "    num2 = float(input(\"Second number: \"))\n",
    "    num3 = float(input(\"Third number: \"))\n",
    "\n",
    "    sorted_numbers = sort_three_numbers(num1, num2, num3)\n",
    "    print(\"Numbers in ascending order:\", sorted_numbers)"
   ]
  },
  {
   "cell_type": "markdown",
   "metadata": {},
   "source": [
    "##### 29. Build a program that determines the roots of a quartic equation using numerical methods."
   ]
  },
  {
   "cell_type": "code",
   "execution_count": null,
   "metadata": {},
   "outputs": [],
   "source": [
    "from scipy import roots\n",
    "import numpy as np\n",
    "\n",
    "def find_quartic_roots(a, b, c, d, e):\n",
    "    # Define the polynomial coefficients\n",
    "    coefficients = [a, b, c, d, e]\n",
    "    \n",
    "    # Use NumPy's roots function to find the roots\n",
    "    roots = np.roots(coefficients)\n",
    "    \n",
    "    return roots\n",
    "\n",
    "def quad_root_main():\n",
    "    # Get input from the user\n",
    "    print(\"Enter the coefficients for the quartic equation ax^4 + bx^3 + cx^2 + dx + e = 0\")\n",
    "    a = float(input(\"Enter coefficient a (for x^4): \"))\n",
    "    b = float(input(\"Enter coefficient b (for x^3): \"))\n",
    "    c = float(input(\"Enter coefficient c (for x^2): \"))\n",
    "    d = float(input(\"Enter coefficient d (for x): \"))\n",
    "    e = float(input(\"Enter constant term e: \"))\n",
    "\n",
    "    # Check if it's a valid quartic equation\n",
    "    if a == 0:\n",
    "        print(\"This is not a quartic equation.\")\n",
    "        return\n",
    "    \n",
    "    # Find and display the roots\n",
    "    roots = find_quartic_roots(a, b, c, d, e)\n",
    "    print(\"The roots of the quartic equation are:\")\n",
    "    for i, root in enumerate(roots, start=1):\n",
    "        print(f\"Root {i}: {root}\")"
   ]
  },
  {
   "cell_type": "markdown",
   "metadata": {},
   "source": [
    "##### 30. Write a program that calculates the BMI (Body Mass Index) and provides health recommendations based on the user's input. "
   ]
  },
  {
   "cell_type": "code",
   "execution_count": null,
   "metadata": {},
   "outputs": [],
   "source": [
    "def calculate_bmi(weight, height):\n",
    "    bmi = weight / (height ** 2)\n",
    "    return bmi\n",
    "\n",
    "def health_recommendation(bmi):\n",
    "    # Recommendations based on BMI\n",
    "    if bmi < 18.5:\n",
    "        return \"Underweight: It's important to eat a nutritious diet and consult a healthcare provider for advice on reaching a healthier weight.\"\n",
    "    elif 18.5 <= bmi < 24.9:\n",
    "        return \"Normal weight: Great job! Maintain your current lifestyle and continue eating a balanced diet.\"\n",
    "    elif 25 <= bmi < 29.9:\n",
    "        return \"Overweight: Consider incorporating regular physical activity and a healthy diet to manage your weight.\"\n",
    "    else:\n",
    "        return \"Obesity: It's important to consult with a healthcare provider for a personalized plan to achieve a healthier weight.\"\n",
    "\n",
    "def main():\n",
    "    print(\"Welcome to the BMI Calculator!\")\n",
    "    weight = float(input(\"Enter your weight in kilograms: \"))\n",
    "    height = float(input(\"Enter your height in meters: \"))\n",
    "    \n",
    "    bmi = calculate_bmi(weight, height)\n",
    "    print(f\"Your BMI is: {bmi:.2f}\")\n",
    "    \n",
    "    recommendation = health_recommendation(bmi)\n",
    "    print(recommendation)"
   ]
  },
  {
   "cell_type": "markdown",
   "metadata": {},
   "source": [
    "##### 31. Create a program that validates a password based on complexity rules (length, characters, etc.). "
   ]
  },
  {
   "cell_type": "code",
   "execution_count": null,
   "metadata": {},
   "outputs": [],
   "source": [
    "import re\n",
    "\n",
    "def validate_password(password):\n",
    "    min_length = 8\n",
    "    if len(password) < min_length:\n",
    "        return f\"Password must be at least {min_length} characters long.\"\n",
    "    \n",
    "    if not re.search(r\"[A-Z]\", password):\n",
    "        return \"Password must contain at least one uppercase letter.\"\n",
    "    \n",
    "    if not re.search(r\"[a-z]\", password):\n",
    "        return \"Password must contain at least one lowercase letter.\"\n",
    "    \n",
    "    if not re.search(r\"\\d\", password):\n",
    "        return \"Password must contain at least one digit.\"\n",
    "    \n",
    "    if not re.search(r\"[!@#$%^&*()_+]\", password):\n",
    "        return \"Password must contain at least one special character (!@#$%^&*()_+).\"\n",
    "    \n",
    "    return \"Password is valid.\"\n",
    "\n",
    "def authentication_main():\n",
    "    password = input(\"Enter a password to validate: \")\n",
    "    result = validate_password(password)\n",
    "    print(result)"
   ]
  },
  {
   "cell_type": "markdown",
   "metadata": {},
   "source": [
    "##### 32. Develop a program that performs matrix addition and subtraction based on user input."
   ]
  },
  {
   "cell_type": "code",
   "execution_count": null,
   "metadata": {},
   "outputs": [],
   "source": [
    "import numpy as np\n",
    "\n",
    "def get_matrix(rows, cols, matrix_number):\n",
    "    print(f\"Enter the elements for Matrix {matrix_number}:\")\n",
    "    matrix = []\n",
    "    for i in range(rows):\n",
    "        row = list(map(int, input(f\"Enter row {i + 1} (space-separated values): \").split()))\n",
    "        while len(row) != cols:\n",
    "            print(f\"Row must have exactly {cols} values.\")\n",
    "            row = list(map(int, input(f\"Enter row {i + 1} (space-separated values): \").split()))\n",
    "        matrix.append(row)\n",
    "    return np.array(matrix)\n",
    "\n",
    "def matrix_main():\n",
    "    # Input dimensions of the matrices\n",
    "    rows = int(input(\"Enter the number of rows in the matrices: \"))\n",
    "    cols = int(input(\"Enter the number of columns in the matrices: \"))\n",
    "    \n",
    "    # Get matrices from the user\n",
    "    matrix1 = get_matrix(rows, cols, 1)\n",
    "    matrix2 = get_matrix(rows, cols, 2)\n",
    "    \n",
    "    # The operation\n",
    "    operation = input(\"Enter '+' for addition or '-' for subtraction: \").strip()\n",
    "\n",
    "    # Perform the operation and display the result\n",
    "    if operation == '+':\n",
    "        result = matrix1 + matrix2\n",
    "        print(\"\\nResult of Matrix Addition:\")\n",
    "        print(result)\n",
    "    elif operation == '-':\n",
    "        result = matrix1 - matrix2\n",
    "        print(\"\\nResult of Matrix Subtraction:\")\n",
    "        print(result)\n",
    "    else:\n",
    "        print(\"Invalid operation. Please enter '+' or '-'.\")"
   ]
  },
  {
   "cell_type": "markdown",
   "metadata": {},
   "source": [
    "##### 33. Write a program that calculates the greatest common divisor (GCD) of two numbers using the Euclidean algorithm."
   ]
  },
  {
   "cell_type": "code",
   "execution_count": null,
   "metadata": {},
   "outputs": [],
   "source": [
    "def calculate_gcd(a, b):\n",
    "    while b != 0:\n",
    "        a, b = b, a % b\n",
    "    return a\n",
    "\n",
    "def gcd_main():\n",
    "    # Input from the user\n",
    "    num1 = int(input(\"Enter the first number: \"))\n",
    "    num2 = int(input(\"Enter the second number: \"))\n",
    "    \n",
    "    gcd = calculate_gcd(num1, num2)\n",
    "    print(f\"The GCD of {num1} and {num2} is: {gcd}\")"
   ]
  },
  {
   "cell_type": "markdown",
   "metadata": {},
   "source": [
    "##### 34. Build a program that performs matrix multiplication using nested loops and conditional statements. "
   ]
  },
  {
   "cell_type": "code",
   "execution_count": null,
   "metadata": {},
   "outputs": [],
   "source": [
    "def matrix_multiply(matrix1, matrix2):\n",
    "    # Get dimensions of matrices\n",
    "    rows_matrix1 = len(matrix1)\n",
    "    cols_matrix1 = len(matrix1[0])\n",
    "    rows_matrix2 = len(matrix2)\n",
    "    cols_matrix2 = len(matrix2[0])\n",
    "\n",
    "    # Check if matrix multiplication is possible\n",
    "    if cols_matrix1 != rows_matrix2:\n",
    "        return \"Matrix multiplication not possible: incompatible dimensions.\"\n",
    "\n",
    "    # Initialize the result matrix with zeros\n",
    "    result = [[0 for _ in range(cols_matrix2)] for _ in range(rows_matrix1)]\n",
    "\n",
    "    # Perform matrix multiplication\n",
    "    for i in range(rows_matrix1):\n",
    "        for j in range(cols_matrix2):\n",
    "            for k in range(cols_matrix1):\n",
    "                result[i][j] += matrix1[i][k] * matrix2[k][j]\n",
    "    \n",
    "    return result\n",
    "\n",
    "def matrix_multiply_main():\n",
    "    # Sample input matrices\n",
    "    matrix1 = [\n",
    "        [1, 2, 3],\n",
    "        [4, 5, 6]\n",
    "    ]\n",
    "    \n",
    "    matrix2 = [\n",
    "        [7, 8],\n",
    "        [9, 10],\n",
    "        [11, 12]\n",
    "    ]\n",
    "\n",
    "    # Multiply matrices\n",
    "    result = matrix_multiply(matrix1, matrix2)\n",
    "\n",
    "    if isinstance(result, str):\n",
    "        print(result)\n",
    "    else:\n",
    "        print(\"Result of Matrix Multiplication:\")\n",
    "        for row in result:\n",
    "            print(row)"
   ]
  },
  {
   "cell_type": "markdown",
   "metadata": {},
   "source": [
    "##### 35. Create a program that simulates a basic text-based tic-tac-toe game against the computer."
   ]
  },
  {
   "cell_type": "code",
   "execution_count": 5,
   "metadata": {},
   "outputs": [],
   "source": [
    "import random\n",
    "\n",
    "# Initialize the game board\n",
    "def create_board():\n",
    "    return [' ' for _ in range(9)]\n",
    "\n",
    "def print_board(board):\n",
    "    print(f\"\\n {board[0]} | {board[1]} | {board[2]}\")\n",
    "    print(\"---|---|---\")\n",
    "    print(f\" {board[3]} | {board[4]} | {board[5]}\")\n",
    "    print(\"---|---|---\")\n",
    "    print(f\" {board[6]} | {board[7]} | {board[8]}\")\n",
    "    print()\n",
    "\n",
    "def check_winner(board, player):\n",
    "    # Winning combinations on the board\n",
    "    win_combinations = [\n",
    "        [0, 1, 2], [3, 4, 5], [6, 7, 8], # Horizontal\n",
    "        [0, 3, 6], [1, 4, 7], [2, 5, 8], # Vertical\n",
    "        [0, 4, 8], [2, 4, 6]             # Diagonal\n",
    "    ]\n",
    "    for combo in win_combinations:\n",
    "        if all(board[i] == player for i in combo):\n",
    "            return True\n",
    "    return False\n",
    "\n",
    "def check_draw(board):\n",
    "    return ' ' not in board\n",
    "\n",
    "def player_move(board):\n",
    "    while True:\n",
    "        try:\n",
    "            move = int(input(\"Enter your move (1-9): \")) - 1\n",
    "            if board[move] == ' ':\n",
    "                board[move] = 'X'\n",
    "                break\n",
    "            else:\n",
    "                print(\"This spot is already taken.\")\n",
    "        except (ValueError, IndexError):\n",
    "            print(\"Invalid input. Please choose a number between 1 and 9.\")\n",
    "\n",
    "def computer_move(board):\n",
    "    available_moves = [i for i, spot in enumerate(board) if spot == ' ']\n",
    "    move = random.choice(available_moves)\n",
    "    board[move] = 'O'\n",
    "    print(f\"Computer chose position {move + 1}.\")\n",
    "\n",
    "def tic_tac_toe():\n",
    "    board = create_board()\n",
    "    print(\"Welcome to Tic-Tac-Toe!\")\n",
    "    print_board(board)\n",
    "\n",
    "    while True:\n",
    "        # Player's turn\n",
    "        player_move(board)\n",
    "        print_board(board)\n",
    "        \n",
    "        if check_winner(board, 'X'):\n",
    "            print(\"Congratulations, you win!\")\n",
    "            break\n",
    "        \n",
    "        if check_draw(board):\n",
    "            print(\"It's a draw!\")\n",
    "            break\n",
    "\n",
    "        # Computer's turn\n",
    "        computer_move(board)\n",
    "        print_board(board)\n",
    "        \n",
    "        if check_winner(board, 'O'):\n",
    "            print(\"Computer wins! Better luck next time.\")\n",
    "            break\n",
    "        \n",
    "        if check_draw(board):\n",
    "            print(\"It's a draw!\")\n",
    "            break"
   ]
  },
  {
   "cell_type": "markdown",
   "metadata": {},
   "source": [
    "##### 36. Write a program that generates Fibonacci numbers up to a specified term using iterative methods. "
   ]
  },
  {
   "cell_type": "code",
   "execution_count": null,
   "metadata": {},
   "outputs": [],
   "source": [
    "def fibonacci(n):\n",
    "    # Check if n is valid\n",
    "    if n <= 0:\n",
    "        return \"Please enter a positive integer.\"\n",
    "\n",
    "    # Handle first two terms\n",
    "    fib_sequence = [0, 1]\n",
    "\n",
    "    # Generate Fibonacci sequence up to n terms\n",
    "    for i in range(2, n):\n",
    "        next_term = fib_sequence[-1] + fib_sequence[-2]\n",
    "        fib_sequence.append(next_term)\n",
    "\n",
    "    return fib_sequence[:n]  # Return only up to n terms\n",
    "\n",
    "def fibonacci_generator():\n",
    "    # Input: Number of terms\n",
    "    n = int(input(\"Enter the number of terms: \"))\n",
    "    \n",
    "    # Get the Fibonacci sequence\n",
    "    result = fibonacci(n)\n",
    "    \n",
    "    # Display the result\n",
    "    print(f\"Fibonacci sequence up to {n} terms:\")\n",
    "    print(result)"
   ]
  },
  {
   "cell_type": "markdown",
   "metadata": {},
   "source": [
    "##### 37. Develop a program that calculates the nth term of the Fibonacci sequence using memoization. "
   ]
  },
  {
   "cell_type": "code",
   "execution_count": null,
   "metadata": {},
   "outputs": [],
   "source": [
    "memo = {}\n",
    "\n",
    "def fibonacci(n):\n",
    "    # Check if the term is already calculated\n",
    "    if n in memo:\n",
    "        return memo[n]\n",
    "    \n",
    "    # Base cases\n",
    "    if n == 0:\n",
    "        return 0\n",
    "    elif n == 1:\n",
    "        return 1\n",
    "    \n",
    "    # Calculate Fibonacci term recursively with memoization\n",
    "    memo[n] = fibonacci(n - 1) + fibonacci(n - 2)\n",
    "    return memo[n]\n",
    "\n",
    "def fib_main():\n",
    "    # Input: nth term to find\n",
    "    n = int(input(\"Enter the term number (n) to find in the Fibonacci sequence: \"))\n",
    "    \n",
    "    # Validate input\n",
    "    if n < 0:\n",
    "        print(\"Please enter a positive integer.\")\n",
    "    else:\n",
    "        # Calculate and display the nth Fibonacci term\n",
    "        nth_term = fibonacci(n)\n",
    "        print(f\"The {n}th term in the Fibonacci sequence is: {nth_term}\")"
   ]
  },
  {
   "cell_type": "markdown",
   "metadata": {},
   "source": [
    "##### 38. Create a program that generates a calendar for a given month and year using conditional statements. "
   ]
  },
  {
   "cell_type": "code",
   "execution_count": null,
   "metadata": {},
   "outputs": [],
   "source": [
    "import calendar\n",
    "\n",
    "def generate_calendar(year, month):\n",
    "    # Check if the month and year are valid\n",
    "    if month < 1 or month > 12:\n",
    "        return \"Invalid month! Please enter a month between 1 and 12.\"\n",
    "    if year < 1:\n",
    "        return \"Invalid year! Please enter a positive year number.\"\n",
    "    \n",
    "    # Generate and display the calendar\n",
    "    return calendar.month(year, month)\n",
    "\n",
    "def calender_main():\n",
    "    # Get user input for year and month\n",
    "    try:\n",
    "        year = int(input(\"Enter the year: \"))\n",
    "        month = int(input(\"Enter the month (1-12): \"))\n",
    "        \n",
    "        # Generate and display the calendar\n",
    "        result = generate_calendar(year, month)\n",
    "        print(result)\n",
    "    except ValueError:\n",
    "        print(\"Invalid input! Please enter numeric values for year and month.\")"
   ]
  },
  {
   "cell_type": "markdown",
   "metadata": {},
   "source": [
    "##### 39. Build a program that simulates a basic text-based blackjack game against the computer. "
   ]
  },
  {
   "cell_type": "code",
   "execution_count": null,
   "metadata": {},
   "outputs": [],
   "source": [
    "import random\n",
    "\n",
    "# Card values dictionary\n",
    "card_values = {\n",
    "    \"2\": 2, \"3\": 3, \"4\": 4, \"5\": 5, \"6\": 6, \"7\": 7, \"8\": 8, \"9\": 9,\n",
    "    \"10\": 10, \"J\": 10, \"Q\": 10, \"K\": 10, \"A\": 11\n",
    "}\n",
    "\n",
    "# Function to calculate hand total, adjusting for Aces\n",
    "def calculate_total(hand):\n",
    "    total = sum(card_values[card] for card in hand)\n",
    "    # Adjust for Ace being 1 or 11\n",
    "    aces = hand.count(\"A\")\n",
    "    while total > 21 and aces:\n",
    "        total -= 10\n",
    "        aces -= 1\n",
    "    return total\n",
    "\n",
    "# Function to deal a card\n",
    "def deal_card():\n",
    "    return random.choice(list(card_values.keys()))\n",
    "\n",
    "# Function to play the game\n",
    "def play_blackjack():\n",
    "    # Initial hands\n",
    "    player_hand = [deal_card(), deal_card()]\n",
    "    dealer_hand = [deal_card(), deal_card()]\n",
    "\n",
    "    # Show initial hands\n",
    "    print(f\"Your hand: {player_hand} (Total: {calculate_total(player_hand)})\")\n",
    "    print(f\"Dealer's visible card: {dealer_hand[0]}\")\n",
    "\n",
    "    # Player's turn\n",
    "    while True:\n",
    "        # Check if the player has blackjack or has busted\n",
    "        player_total = calculate_total(player_hand)\n",
    "        if player_total == 21:\n",
    "            print(\"Blackjack! You win!\")\n",
    "            return\n",
    "        elif player_total > 21:\n",
    "            print(\"Bust! You lose.\")\n",
    "            return\n",
    "\n",
    "        # Ask player to hit or stand\n",
    "        choice = input(\"Do you want to hit or stand? (h/s): \").lower()\n",
    "        if choice == \"h\":\n",
    "            player_hand.append(deal_card())\n",
    "            print(f\"Your hand: {player_hand} (Total: {calculate_total(player_hand)})\")\n",
    "        elif choice == \"s\":\n",
    "            break\n",
    "        else:\n",
    "            print(\"Invalid choice. Please choose 'h' or 's'.\")\n",
    "\n",
    "    # Dealer's turn\n",
    "    print(f\"Dealer's hand: {dealer_hand} (Total: {calculate_total(dealer_hand)})\")\n",
    "    while calculate_total(dealer_hand) < 17:\n",
    "        dealer_hand.append(deal_card())\n",
    "        print(f\"Dealer draws: {dealer_hand[-1]}\")\n",
    "        print(f\"Dealer's hand: {dealer_hand} (Total: {calculate_total(dealer_hand)})\")\n",
    "\n",
    "    # Determine the winner\n",
    "    player_total = calculate_total(player_hand)\n",
    "    dealer_total = calculate_total(dealer_hand)\n",
    "\n",
    "    print(f\"Final Player Total: {player_total}, Dealer Total: {dealer_total}\")\n",
    "    if dealer_total > 21 or player_total > dealer_total:\n",
    "        print(\"You win!\")\n",
    "    elif player_total == dealer_total:\n",
    "        print(\"It's a tie!\")\n",
    "    else:\n",
    "        print(\"Dealer wins!\")"
   ]
  },
  {
   "cell_type": "markdown",
   "metadata": {},
   "source": [
    "##### 40. Write a program that generates the prime factors of a given number using trial division."
   ]
  },
  {
   "cell_type": "code",
   "execution_count": null,
   "metadata": {},
   "outputs": [],
   "source": [
    "def prime_factors(n):\n",
    "    factors = []\n",
    "    # Divide out the 2s\n",
    "    while n % 2 == 0:\n",
    "        factors.append(2)\n",
    "        n //= 2\n",
    "    \n",
    "    # Now check odd factors from 3 up to the square root of n\n",
    "    divisor = 3\n",
    "    while divisor * divisor <= n:\n",
    "        while n % divisor == 0:\n",
    "            factors.append(divisor)\n",
    "            n //= divisor\n",
    "        divisor += 2\n",
    "    \n",
    "    # If n is now a prime number greater than 2, it's also a factor\n",
    "    if n > 2:\n",
    "        factors.append(n)\n",
    "    \n",
    "    return factors\n",
    "\n",
    "# Get user input\n",
    "num = int(input(\"Enter a number to find its prime factors: \"))\n",
    "print(f\"The prime factors of {num} are: {prime_factors(num)}\")"
   ]
  }
 ],
 "metadata": {
  "kernelspec": {
   "display_name": "Python 3",
   "language": "python",
   "name": "python3"
  },
  "language_info": {
   "codemirror_mode": {
    "name": "ipython",
    "version": 3
   },
   "file_extension": ".py",
   "mimetype": "text/x-python",
   "name": "python",
   "nbconvert_exporter": "python",
   "pygments_lexer": "ipython3",
   "version": "3.11.9"
  }
 },
 "nbformat": 4,
 "nbformat_minor": 2
}
